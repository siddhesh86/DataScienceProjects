{
 "cells": [
  {
   "cell_type": "markdown",
   "metadata": {},
   "source": []
  },
  {
   "cell_type": "markdown",
   "metadata": {},
   "source": [
    "This is a study of data of emergency (911) calls in Montegomery County Pennsylvania, USA [[source](https://www.kaggle.com/datasets/mchirico/montcoalert/data)].\n",
    "The data consists of the following information:\n",
    "- title: Call title listing calls category and subcategory\n",
    "- desc: Description of calls\n",
    "- timeStamp: Calls time in 'Year-Month-Day hr:min:sec' format\n",
    "- twp: Township of calls\n",
    "- zip: ZIP code of calls\n",
    "- lat: Lattitude position of calls\n",
    "- lng: Longitude position of calls\n",
    "- addr: Address of calls\n",
    "- e: Redundant variable with always eual to 1\n",
    "\n",
    "Plotly library has been used for visual exploration of data study. mm"
   ]
  },
  {
   "cell_type": "code",
   "execution_count": null,
   "metadata": {},
   "outputs": [],
   "source": [
    "import pandas as pd \n",
    "import numpy as np \n",
    "import matplotlib as mpl \n",
    "import matplotlib.pyplot as plt \n",
    "import seaborn as sns \n",
    "import plotly.express as px\n",
    "import plotly.graph_objects as go \n",
    "import cufflinks as cf \n",
    "\n",
    "data = pd.read_csv('/Users/siddhesh/Work/datasets/Emergency911Calls/911_original.csv')\n",
    "data"
   ]
  },
  {
   "cell_type": "code",
   "execution_count": null,
   "metadata": {},
   "outputs": [],
   "source": [
    "data.info()"
   ]
  },
  {
   "cell_type": "code",
   "execution_count": null,
   "metadata": {},
   "outputs": [],
   "source": [
    "data.describe()"
   ]
  },
  {
   "cell_type": "code",
   "execution_count": null,
   "metadata": {},
   "outputs": [],
   "source": [
    "print(f\"Number of duplicate rows: {data.duplicated().sum()}. Drop duplicates.\")\n",
    "data.drop_duplicates(inplace=True)"
   ]
  },
  {
   "cell_type": "code",
   "execution_count": null,
   "metadata": {},
   "outputs": [],
   "source": [
    "data.isna().sum()"
   ]
  },
  {
   "cell_type": "code",
   "execution_count": null,
   "metadata": {},
   "outputs": [],
   "source": [
    "data"
   ]
  },
  {
   "cell_type": "markdown",
   "metadata": {},
   "source": [
    "Datatype of 'timeStamp' coulmn is string. Converting it to 'datatime' format would help us accessing date easily for our study."
   ]
  },
  {
   "cell_type": "code",
   "execution_count": null,
   "metadata": {},
   "outputs": [],
   "source": [
    "print(f\"Datatype of 'timeStamp column: {type(data['timeStamp'].loc[0]) = } {data['timeStamp'].loc[0] = }\")\n",
    "data['timeStamp'] = pd.to_datetime(data['timeStamp'])\n",
    "#data.info()"
   ]
  },
  {
   "cell_type": "markdown",
   "metadata": {},
   "source": [
    "Separate 'timeStamp' information into 'Year', 'Month', 'Day' and 'Hour' columns."
   ]
  },
  {
   "cell_type": "code",
   "execution_count": null,
   "metadata": {},
   "outputs": [],
   "source": [
    "data['Year'] = data['timeStamp'].dt.year\n",
    "data['Month'] = data['timeStamp'].dt.month\n",
    "data['Day'] = data['timeStamp'].dt.day\n",
    "data['Hour'] = data['timeStamp'].dt.hour\n",
    "data['DayOfWeek'] = data['timeStamp'].dt.day_of_week\n",
    "data['DayOfWeekMpd'] = data['DayOfWeek'].map({0:'Sunday', 1:'Monday',2:'Tuesday',3:'Wednesday',4:'Thursday',5:'Friday',6:'Saturday'})\n",
    "data"
   ]
  },
  {
   "cell_type": "markdown",
   "metadata": {},
   "source": [
    "Information in 'title' coulmn is stored in 'Category : subcategory' format. Add separate columns for 'Category' and 'Subcategory'."
   ]
  },
  {
   "cell_type": "code",
   "execution_count": null,
   "metadata": {},
   "outputs": [],
   "source": [
    "print(f\"Check first few row of 'title' column to understand its format: {data['title'].loc[0:10] = }\")\n",
    "data['Category'] = data['title'].str.split(\":\").str.get(0)\n",
    "data['Subcategory'] = data['title'].str.split(\":\").str.get(1)\n",
    "data['Subcategory'] = data['Subcategory'].str.replace('-', '') # drop proceeding '-'\n",
    "data"
   ]
  },
  {
   "cell_type": "markdown",
   "metadata": {},
   "source": [
    "Plot number of call per year using cufflinks"
   ]
  },
  {
   "cell_type": "code",
   "execution_count": null,
   "metadata": {},
   "outputs": [],
   "source": [
    "cf.set_config_file(theme='ggplot',sharing='public',offline=True)\n",
    "#data.iplot(x='Year', kind='hist')\n",
    "data['Year'].iplot( kind='hist')"
   ]
  },
  {
   "cell_type": "markdown",
   "metadata": {},
   "source": [
    "Plot number of calls per year using plotly.express"
   ]
  },
  {
   "cell_type": "code",
   "execution_count": null,
   "metadata": {},
   "outputs": [],
   "source": [
    "dataCountsPerYear = data.value_counts('Year')\n",
    "#px.bar(dataCountsPerYear, x=dataCountsPerYear.index, y='count')\n",
    "fig = px.histogram(data, x='Year', color='Category', barmode='group')\n",
    "fig.show()"
   ]
  },
  {
   "cell_type": "markdown",
   "metadata": {},
   "source": [
    "Number of calls per month"
   ]
  },
  {
   "cell_type": "code",
   "execution_count": null,
   "metadata": {},
   "outputs": [],
   "source": [
    "px.histogram(data, x='Month', color='Category')"
   ]
  },
  {
   "cell_type": "markdown",
   "metadata": {},
   "source": [
    "Number of call per day"
   ]
  },
  {
   "cell_type": "code",
   "execution_count": null,
   "metadata": {},
   "outputs": [],
   "source": [
    "px.histogram(data, x='Day', color='Category')"
   ]
  },
  {
   "cell_type": "markdown",
   "metadata": {},
   "source": [
    "Number of call per week day"
   ]
  },
  {
   "cell_type": "code",
   "execution_count": null,
   "metadata": {},
   "outputs": [],
   "source": [
    "px.histogram(data, x='DayOfWeekMpd', color='Category')"
   ]
  },
  {
   "cell_type": "markdown",
   "metadata": {},
   "source": [
    "Number of call per hour"
   ]
  },
  {
   "cell_type": "code",
   "execution_count": null,
   "metadata": {},
   "outputs": [],
   "source": [
    "px.histogram(data, x='Hour', color='Category', barmode='group')"
   ]
  },
  {
   "cell_type": "markdown",
   "metadata": {},
   "source": [
    "Number of call in day vs hour"
   ]
  },
  {
   "cell_type": "code",
   "execution_count": null,
   "metadata": {},
   "outputs": [],
   "source": [
    "px.density_heatmap(data, x='Hour', y='DayOfWeekMpd', text_auto=True, marginal_x='histogram',  marginal_y='histogram')"
   ]
  },
  {
   "cell_type": "markdown",
   "metadata": {},
   "source": [
    "Number of calls in months over years"
   ]
  },
  {
   "cell_type": "code",
   "execution_count": null,
   "metadata": {},
   "outputs": [],
   "source": [
    "px.density_heatmap(data, x='Month', y='Year', text_auto=True)"
   ]
  },
  {
   "cell_type": "code",
   "execution_count": null,
   "metadata": {},
   "outputs": [],
   "source": [
    "data.value_counts('zip')"
   ]
  },
  {
   "cell_type": "code",
   "execution_count": null,
   "metadata": {},
   "outputs": [],
   "source": [
    "dataByZip = data.groupby(['zip']).count()['Category'].reset_index()\n",
    "dataByZip['zip'] = dataByZip['zip'].astype(int).astype(str)\n",
    "dataByZip"
   ]
  },
  {
   "cell_type": "code",
   "execution_count": null,
   "metadata": {},
   "outputs": [],
   "source": [
    "dataByZip.info()"
   ]
  },
  {
   "cell_type": "code",
   "execution_count": null,
   "metadata": {},
   "outputs": [],
   "source": [
    "dataByZip.rename(columns={\"Category\":'Calls'}, inplace=True)\n",
    "dataByZip"
   ]
  },
  {
   "cell_type": "code",
   "execution_count": null,
   "metadata": {},
   "outputs": [],
   "source": [
    "from urllib.request import urlopen\n",
    "import json\n",
    "with urlopen('https://raw.githubusercontent.com/OpenDataDE/State-zip-code-GeoJSON/refs/heads/master/pa_pennsylvania_zip_codes_geo.min.json') as response:\n",
    "    pennsylvania_geojson = json.load(response)"
   ]
  },
  {
   "cell_type": "markdown",
   "metadata": {},
   "source": [
    "plotly.express choropleth() is working, but choropleth_map() is not working."
   ]
  },
  {
   "cell_type": "code",
   "execution_count": null,
   "metadata": {},
   "outputs": [],
   "source": [
    "fig = px.choropleth(\n",
    "    dataByZip, \n",
    "    geojson=pennsylvania_geojson, #geojson='https://raw.githubusercontent.com/OpenDataDE/State-zip-code-GeoJSON/refs/heads/master/pa_pennsylvania_zip_codes_geo.min.json', \n",
    "    locations='zip', color='Calls', \n",
    "    color_continuous_scale='viridis', \n",
    "    featureidkey='properties.ZCTA5CE10', range_color=(0, max(dataByZip['Calls'])))\n",
    "fig.update_layout(margin={\"r\": 0, \"t\": 0, \"l\": 0, \"b\": 0})\n",
    "fig.update_geos(fitbounds=\"locations\", visible=False)\n",
    "fig.show()"
   ]
  },
  {
   "cell_type": "code",
   "execution_count": null,
   "metadata": {},
   "outputs": [],
   "source": [
    "fig = px.choropleth_map(\n",
    "    dataByZip, \n",
    "    geojson=pennsylvania_geojson, \n",
    "    color=\"Calls\",                           \n",
    "    locations=\"zip\", \n",
    "    featureidkey=\"properties.ZCTA5CE10\",                           \n",
    "    center={\"lat\": 40.2517, \"lon\": -75.5},                           \n",
    "    map_style=\"carto-positron\", \n",
    "    zoom=8)\n",
    "fig.update_layout(margin={\"r\":0,\"t\":0,\"l\":0,\"b\":0})\n",
    "fig.show()"
   ]
  },
  {
   "cell_type": "code",
   "execution_count": null,
   "metadata": {},
   "outputs": [],
   "source": [
    "fig = go.Figure(go.Choroplethmap(\n",
    "    geojson=pennsylvania_geojson, \n",
    "    locations=dataByZip['zip'], \n",
    "    z=dataByZip['Calls'],                                 \n",
    "    featureidkey=\"properties.ZCTA5CE10\",   \n",
    "    colorscale=\"Viridis\", \n",
    "    zmin=0, zmax=dataByZip['Calls'].max(),                                    \n",
    "    marker_opacity=0.5, marker_line_width=0\n",
    "))\n",
    "fig.update_layout(map_style=\"carto-positron\",\n",
    "                  map_zoom=8, map_center = {\"lat\": 40.2517, \"lon\": -75.5})\n",
    "fig.update_layout(margin={\"r\":0,\"t\":0,\"l\":0,\"b\":0})\n",
    "fig.show()"
   ]
  },
  {
   "cell_type": "code",
   "execution_count": null,
   "metadata": {},
   "outputs": [],
   "source": []
  }
 ],
 "metadata": {
  "kernelspec": {
   "display_name": "Python 3 (ipykernel)",
   "language": "python",
   "name": "python3"
  },
  "language_info": {
   "codemirror_mode": {
    "name": "ipython",
    "version": 3
   },
   "file_extension": ".py",
   "mimetype": "text/x-python",
   "name": "python",
   "nbconvert_exporter": "python",
   "pygments_lexer": "ipython3",
   "version": "3.11.5"
  }
 },
 "nbformat": 4,
 "nbformat_minor": 2
}

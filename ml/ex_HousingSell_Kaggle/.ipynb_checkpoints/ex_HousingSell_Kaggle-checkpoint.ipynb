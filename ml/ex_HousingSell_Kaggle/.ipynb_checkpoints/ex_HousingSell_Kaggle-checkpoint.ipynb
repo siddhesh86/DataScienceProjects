{
 "cells": [
  {
   "cell_type": "code",
   "execution_count": 1,
   "id": "2a137d64",
   "metadata": {},
   "outputs": [],
   "source": [
    "#import pandas\n",
    "\n"
   ]
  },
  {
   "cell_type": "code",
   "execution_count": 2,
   "id": "4e850317",
   "metadata": {},
   "outputs": [],
   "source": [
    "import pandas as pd\n",
    "\n",
    "home_Iowa_data    = pd.read_csv('./home-data-for-ml-course_train.csv')\n",
    "home_Melborn_data = pd.read_csv('./melbourne-housing-snapshot_melb_data.csv')"
   ]
  },
  {
   "cell_type": "code",
   "execution_count": 3,
   "id": "8fff7b4c",
   "metadata": {},
   "outputs": [
    {
     "name": "stdout",
     "output_type": "stream",
     "text": [
      "/home/siddhesh/anaconda3/envs/ds1/bin/python\n"
     ]
    }
   ],
   "source": [
    " import sys\n",
    " print(sys.executable) "
   ]
  },
  {
   "cell_type": "code",
   "execution_count": 4,
   "id": "daa6637f-ca56-4b6a-bc35-6f9411d76f7b",
   "metadata": {},
   "outputs": [
    {
     "name": "stdout",
     "output_type": "stream",
     "text": [
      "yes\n"
     ]
    }
   ],
   "source": [
    "print(\"yes\")"
   ]
  },
  {
   "cell_type": "code",
   "execution_count": 5,
   "id": "4d2ca820-149d-405d-b269-89f6888cde5d",
   "metadata": {},
   "outputs": [
    {
     "name": "stdout",
     "output_type": "stream",
     "text": [
      "1.4.2\n"
     ]
    }
   ],
   "source": [
    "print(pd.__version__)"
   ]
  },
  {
   "cell_type": "code",
   "execution_count": 6,
   "id": "1fc4f5a4-4e5c-44d4-a2c5-aea419046f8c",
   "metadata": {},
   "outputs": [
    {
     "name": "stdout",
     "output_type": "stream",
     "text": [
      "home_Melborn_data:               Suburb           Address  Rooms Type      Price Method  \\\n",
      "0         Abbotsford      85 Turner St      2    h  1480000.0      S   \n",
      "1         Abbotsford   25 Bloomburg St      2    h  1035000.0      S   \n",
      "2         Abbotsford      5 Charles St      3    h  1465000.0     SP   \n",
      "3         Abbotsford  40 Federation La      3    h   850000.0     PI   \n",
      "4         Abbotsford       55a Park St      4    h  1600000.0     VB   \n",
      "...              ...               ...    ...  ...        ...    ...   \n",
      "13575  Wheelers Hill      12 Strada Cr      4    h  1245000.0      S   \n",
      "13576   Williamstown     77 Merrett Dr      3    h  1031000.0     SP   \n",
      "13577   Williamstown       83 Power St      3    h  1170000.0      S   \n",
      "13578   Williamstown      96 Verdon St      4    h  2500000.0     PI   \n",
      "13579     Yarraville        6 Agnes St      4    h  1285000.0     SP   \n",
      "\n",
      "        SellerG        Date  Distance  Postcode  ...  Bathroom  Car  Landsize  \\\n",
      "0        Biggin   3/12/2016       2.5    3067.0  ...       1.0  1.0     202.0   \n",
      "1        Biggin   4/02/2016       2.5    3067.0  ...       1.0  0.0     156.0   \n",
      "2        Biggin   4/03/2017       2.5    3067.0  ...       2.0  0.0     134.0   \n",
      "3        Biggin   4/03/2017       2.5    3067.0  ...       2.0  1.0      94.0   \n",
      "4        Nelson   4/06/2016       2.5    3067.0  ...       1.0  2.0     120.0   \n",
      "...         ...         ...       ...       ...  ...       ...  ...       ...   \n",
      "13575     Barry  26/08/2017      16.7    3150.0  ...       2.0  2.0     652.0   \n",
      "13576  Williams  26/08/2017       6.8    3016.0  ...       2.0  2.0     333.0   \n",
      "13577     Raine  26/08/2017       6.8    3016.0  ...       2.0  4.0     436.0   \n",
      "13578   Sweeney  26/08/2017       6.8    3016.0  ...       1.0  5.0     866.0   \n",
      "13579   Village  26/08/2017       6.3    3013.0  ...       1.0  1.0     362.0   \n",
      "\n",
      "       BuildingArea  YearBuilt  CouncilArea Lattitude  Longtitude  \\\n",
      "0               NaN        NaN        Yarra -37.79960   144.99840   \n",
      "1              79.0     1900.0        Yarra -37.80790   144.99340   \n",
      "2             150.0     1900.0        Yarra -37.80930   144.99440   \n",
      "3               NaN        NaN        Yarra -37.79690   144.99690   \n",
      "4             142.0     2014.0        Yarra -37.80720   144.99410   \n",
      "...             ...        ...          ...       ...         ...   \n",
      "13575           NaN     1981.0          NaN -37.90562   145.16761   \n",
      "13576         133.0     1995.0          NaN -37.85927   144.87904   \n",
      "13577           NaN     1997.0          NaN -37.85274   144.88738   \n",
      "13578         157.0     1920.0          NaN -37.85908   144.89299   \n",
      "13579         112.0     1920.0          NaN -37.81188   144.88449   \n",
      "\n",
      "                       Regionname Propertycount  \n",
      "0           Northern Metropolitan        4019.0  \n",
      "1           Northern Metropolitan        4019.0  \n",
      "2           Northern Metropolitan        4019.0  \n",
      "3           Northern Metropolitan        4019.0  \n",
      "4           Northern Metropolitan        4019.0  \n",
      "...                           ...           ...  \n",
      "13575  South-Eastern Metropolitan        7392.0  \n",
      "13576        Western Metropolitan        6380.0  \n",
      "13577        Western Metropolitan        6380.0  \n",
      "13578        Western Metropolitan        6380.0  \n",
      "13579        Western Metropolitan        6543.0  \n",
      "\n",
      "[13580 rows x 21 columns]\n"
     ]
    }
   ],
   "source": [
    "print(\"home_Melborn_data: {}\".format(home_Melborn_data))\n",
    "#home_Melborn_data.describe()"
   ]
  },
  {
   "cell_type": "code",
   "execution_count": null,
   "id": "1737cf25-aee9-4216-a254-07b79e7d053e",
   "metadata": {},
   "outputs": [],
   "source": []
  }
 ],
 "metadata": {
  "kernelspec": {
   "display_name": "Python 3 (ipykernel)",
   "language": "python",
   "name": "python3"
  },
  "language_info": {
   "codemirror_mode": {
    "name": "ipython",
    "version": 3
   },
   "file_extension": ".py",
   "mimetype": "text/x-python",
   "name": "python",
   "nbconvert_exporter": "python",
   "pygments_lexer": "ipython3",
   "version": "3.10.5"
  }
 },
 "nbformat": 4,
 "nbformat_minor": 5
}

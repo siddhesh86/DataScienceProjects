{
 "cells": [
  {
   "cell_type": "code",
   "execution_count": 70,
   "id": "cb2c7780",
   "metadata": {},
   "outputs": [
    {
     "name": "stdout",
     "output_type": "stream",
     "text": [
      "train_data_full.columns: Index(['MSSubClass', 'MSZoning', 'LotFrontage', 'LotArea', 'Street', 'Alley',\n",
      "       'LotShape', 'LandContour', 'Utilities', 'LotConfig', 'LandSlope',\n",
      "       'Neighborhood', 'Condition1', 'Condition2', 'BldgType', 'HouseStyle',\n",
      "       'OverallQual', 'OverallCond', 'YearBuilt', 'YearRemodAdd', 'RoofStyle',\n",
      "       'RoofMatl', 'Exterior1st', 'Exterior2nd', 'MasVnrType', 'MasVnrArea',\n",
      "       'ExterQual', 'ExterCond', 'Foundation', 'BsmtQual', 'BsmtCond',\n",
      "       'BsmtExposure', 'BsmtFinType1', 'BsmtFinSF1', 'BsmtFinType2',\n",
      "       'BsmtFinSF2', 'BsmtUnfSF', 'TotalBsmtSF', 'Heating', 'HeatingQC',\n",
      "       'CentralAir', 'Electrical', '1stFlrSF', '2ndFlrSF', 'LowQualFinSF',\n",
      "       'GrLivArea', 'BsmtFullBath', 'BsmtHalfBath', 'FullBath', 'HalfBath',\n",
      "       'BedroomAbvGr', 'KitchenAbvGr', 'KitchenQual', 'TotRmsAbvGrd',\n",
      "       'Functional', 'Fireplaces', 'FireplaceQu', 'GarageType', 'GarageYrBlt',\n",
      "       'GarageFinish', 'GarageCars', 'GarageArea', 'GarageQual', 'GarageCond',\n",
      "       'PavedDrive', 'WoodDeckSF', 'OpenPorchSF', 'EnclosedPorch', '3SsnPorch',\n",
      "       'ScreenPorch', 'PoolArea', 'PoolQC', 'Fence', 'MiscFeature', 'MiscVal',\n",
      "       'MoSold', 'YrSold', 'SaleType', 'SaleCondition', 'SalePrice'],\n",
      "      dtype='object'), \n",
      "test_data_full,columns: Index(['MSSubClass', 'MSZoning', 'LotFrontage', 'LotArea', 'Street', 'Alley',\n",
      "       'LotShape', 'LandContour', 'Utilities', 'LotConfig', 'LandSlope',\n",
      "       'Neighborhood', 'Condition1', 'Condition2', 'BldgType', 'HouseStyle',\n",
      "       'OverallQual', 'OverallCond', 'YearBuilt', 'YearRemodAdd', 'RoofStyle',\n",
      "       'RoofMatl', 'Exterior1st', 'Exterior2nd', 'MasVnrType', 'MasVnrArea',\n",
      "       'ExterQual', 'ExterCond', 'Foundation', 'BsmtQual', 'BsmtCond',\n",
      "       'BsmtExposure', 'BsmtFinType1', 'BsmtFinSF1', 'BsmtFinType2',\n",
      "       'BsmtFinSF2', 'BsmtUnfSF', 'TotalBsmtSF', 'Heating', 'HeatingQC',\n",
      "       'CentralAir', 'Electrical', '1stFlrSF', '2ndFlrSF', 'LowQualFinSF',\n",
      "       'GrLivArea', 'BsmtFullBath', 'BsmtHalfBath', 'FullBath', 'HalfBath',\n",
      "       'BedroomAbvGr', 'KitchenAbvGr', 'KitchenQual', 'TotRmsAbvGrd',\n",
      "       'Functional', 'Fireplaces', 'FireplaceQu', 'GarageType', 'GarageYrBlt',\n",
      "       'GarageFinish', 'GarageCars', 'GarageArea', 'GarageQual', 'GarageCond',\n",
      "       'PavedDrive', 'WoodDeckSF', 'OpenPorchSF', 'EnclosedPorch', '3SsnPorch',\n",
      "       'ScreenPorch', 'PoolArea', 'PoolQC', 'Fence', 'MiscFeature', 'MiscVal',\n",
      "       'MoSold', 'YrSold', 'SaleType', 'SaleCondition'],\n",
      "      dtype='object')\n"
     ]
    }
   ],
   "source": [
    "import pandas as pd\n",
    "import numpy as np\n",
    "from sklearn.model_selection import train_test_split\n",
    "from sklearn.ensemble import RandomForestRegressor\n",
    "from sklearn.metrics import mean_absolute_error\n",
    "from sklearn.impute import SimpleImputer\n",
    "import seaborn as sns\n",
    "\n",
    "train_data_full = pd.read_csv(\"home-data-for-ml-course/train.csv\", index_col='Id')\n",
    "test_data_full = pd.read_csv(\"home-data-for-ml-course/test.csv\", index_col='Id')\n",
    "\n",
    "print(\"train_data_full.columns: {}, \\ntest_data_full,columns: {}\".format(train_data_full.columns, test_data_full.columns))\n"
   ]
  },
  {
   "cell_type": "code",
   "execution_count": 72,
   "id": "bc5900e9",
   "metadata": {},
   "outputs": [
    {
     "name": "stdout",
     "output_type": "stream",
     "text": [
      "X:(1460, 36) \n",
      "        MSSubClass  LotFrontage        LotArea  OverallQual  OverallCond  \\\n",
      "count  1460.000000  1201.000000    1460.000000  1460.000000  1460.000000   \n",
      "mean     56.897260    70.049958   10516.828082     6.099315     5.575342   \n",
      "std      42.300571    24.284752    9981.264932     1.382997     1.112799   \n",
      "min      20.000000    21.000000    1300.000000     1.000000     1.000000   \n",
      "25%      20.000000    59.000000    7553.500000     5.000000     5.000000   \n",
      "50%      50.000000    69.000000    9478.500000     6.000000     5.000000   \n",
      "75%      70.000000    80.000000   11601.500000     7.000000     6.000000   \n",
      "max     190.000000   313.000000  215245.000000    10.000000     9.000000   \n",
      "\n",
      "         YearBuilt  YearRemodAdd   MasVnrArea   BsmtFinSF1   BsmtFinSF2  ...  \\\n",
      "count  1460.000000   1460.000000  1452.000000  1460.000000  1460.000000  ...   \n",
      "mean   1971.267808   1984.865753   103.685262   443.639726    46.549315  ...   \n",
      "std      30.202904     20.645407   181.066207   456.098091   161.319273  ...   \n",
      "min    1872.000000   1950.000000     0.000000     0.000000     0.000000  ...   \n",
      "25%    1954.000000   1967.000000     0.000000     0.000000     0.000000  ...   \n",
      "50%    1973.000000   1994.000000     0.000000   383.500000     0.000000  ...   \n",
      "75%    2000.000000   2004.000000   166.000000   712.250000     0.000000  ...   \n",
      "max    2010.000000   2010.000000  1600.000000  5644.000000  1474.000000  ...   \n",
      "\n",
      "        GarageArea   WoodDeckSF  OpenPorchSF  EnclosedPorch    3SsnPorch  \\\n",
      "count  1460.000000  1460.000000  1460.000000    1460.000000  1460.000000   \n",
      "mean    472.980137    94.244521    46.660274      21.954110     3.409589   \n",
      "std     213.804841   125.338794    66.256028      61.119149    29.317331   \n",
      "min       0.000000     0.000000     0.000000       0.000000     0.000000   \n",
      "25%     334.500000     0.000000     0.000000       0.000000     0.000000   \n",
      "50%     480.000000     0.000000    25.000000       0.000000     0.000000   \n",
      "75%     576.000000   168.000000    68.000000       0.000000     0.000000   \n",
      "max    1418.000000   857.000000   547.000000     552.000000   508.000000   \n",
      "\n",
      "       ScreenPorch     PoolArea       MiscVal       MoSold       YrSold  \n",
      "count  1460.000000  1460.000000   1460.000000  1460.000000  1460.000000  \n",
      "mean     15.060959     2.758904     43.489041     6.321918  2007.815753  \n",
      "std      55.757415    40.177307    496.123024     2.703626     1.328095  \n",
      "min       0.000000     0.000000      0.000000     1.000000  2006.000000  \n",
      "25%       0.000000     0.000000      0.000000     5.000000  2007.000000  \n",
      "50%       0.000000     0.000000      0.000000     6.000000  2008.000000  \n",
      "75%       0.000000     0.000000      0.000000     8.000000  2009.000000  \n",
      "max     480.000000   738.000000  15500.000000    12.000000  2010.000000  \n",
      "\n",
      "[8 rows x 36 columns]  \n",
      "\n",
      "y:(1460,) \n",
      "count      1460.000000\n",
      "mean     180921.195890\n",
      "std       79442.502883\n",
      "min       34900.000000\n",
      "25%      129975.000000\n",
      "50%      163000.000000\n",
      "75%      214000.000000\n",
      "max      755000.000000\n",
      "Name: SalePrice, dtype: float64\n",
      "\n",
      "\n",
      "X_test:(1459, 36) \n",
      "        MSSubClass  LotFrontage       LotArea  OverallQual  OverallCond  \\\n",
      "count  1459.000000  1232.000000   1459.000000  1459.000000  1459.000000   \n",
      "mean     57.378341    68.580357   9819.161069     6.078821     5.553804   \n",
      "std      42.746880    22.376841   4955.517327     1.436812     1.113740   \n",
      "min      20.000000    21.000000   1470.000000     1.000000     1.000000   \n",
      "25%      20.000000    58.000000   7391.000000     5.000000     5.000000   \n",
      "50%      50.000000    67.000000   9399.000000     6.000000     5.000000   \n",
      "75%      70.000000    80.000000  11517.500000     7.000000     6.000000   \n",
      "max     190.000000   200.000000  56600.000000    10.000000     9.000000   \n",
      "\n",
      "         YearBuilt  YearRemodAdd   MasVnrArea   BsmtFinSF1   BsmtFinSF2  ...  \\\n",
      "count  1459.000000   1459.000000  1444.000000  1458.000000  1458.000000  ...   \n",
      "mean   1971.357779   1983.662783   100.709141   439.203704    52.619342  ...   \n",
      "std      30.390071     21.130467   177.625900   455.268042   176.753926  ...   \n",
      "min    1879.000000   1950.000000     0.000000     0.000000     0.000000  ...   \n",
      "25%    1953.000000   1963.000000     0.000000     0.000000     0.000000  ...   \n",
      "50%    1973.000000   1992.000000     0.000000   350.500000     0.000000  ...   \n",
      "75%    2001.000000   2004.000000   164.000000   753.500000     0.000000  ...   \n",
      "max    2010.000000   2010.000000  1290.000000  4010.000000  1526.000000  ...   \n",
      "\n",
      "        GarageArea   WoodDeckSF  OpenPorchSF  EnclosedPorch    3SsnPorch  \\\n",
      "count  1458.000000  1459.000000  1459.000000    1459.000000  1459.000000   \n",
      "mean    472.768861    93.174777    48.313914      24.243317     1.794380   \n",
      "std     217.048611   127.744882    68.883364      67.227765    20.207842   \n",
      "min       0.000000     0.000000     0.000000       0.000000     0.000000   \n",
      "25%     318.000000     0.000000     0.000000       0.000000     0.000000   \n",
      "50%     480.000000     0.000000    28.000000       0.000000     0.000000   \n",
      "75%     576.000000   168.000000    72.000000       0.000000     0.000000   \n",
      "max    1488.000000  1424.000000   742.000000    1012.000000   360.000000   \n",
      "\n",
      "       ScreenPorch     PoolArea       MiscVal       MoSold       YrSold  \n",
      "count  1459.000000  1459.000000   1459.000000  1459.000000  1459.000000  \n",
      "mean     17.064428     1.744345     58.167923     6.104181  2007.769705  \n",
      "std      56.609763    30.491646    630.806978     2.722432     1.301740  \n",
      "min       0.000000     0.000000      0.000000     1.000000  2006.000000  \n",
      "25%       0.000000     0.000000      0.000000     4.000000  2007.000000  \n",
      "50%       0.000000     0.000000      0.000000     6.000000  2008.000000  \n",
      "75%       0.000000     0.000000      0.000000     8.000000  2009.000000  \n",
      "max     576.000000   800.000000  17000.000000    12.000000  2010.000000  \n",
      "\n",
      "[8 rows x 36 columns]\n"
     ]
    }
   ],
   "source": [
    "y = train_data_full['SalePrice']\n",
    "\n",
    "X = train_data_full.drop(columns=['SalePrice']).select_dtypes(exclude='object')\n",
    "\n",
    "X_test = test_data_full.select_dtypes(exclude='object')\n",
    "print(\"X:{} \\n{}  \\n\\ny:{} \\n{}\".format(X.shape, X.describe(), y.shape, y.describe()))\n",
    "print(\"\\n\\nX_test:{} \\n{}\".format(X_test.shape, X_test.describe()))"
   ]
  },
  {
   "cell_type": "code",
   "execution_count": 3,
   "id": "fb8e1650",
   "metadata": {},
   "outputs": [
    {
     "name": "stdout",
     "output_type": "stream",
     "text": [
      "Missing data:\n",
      "X:nrows 1460 \n",
      "X.isna().sum():<class 'pandas.core.series.Series'>\n",
      "MSSubClass         0\n",
      "LotFrontage      259\n",
      "LotArea            0\n",
      "OverallQual        0\n",
      "OverallCond        0\n",
      "YearBuilt          0\n",
      "YearRemodAdd       0\n",
      "MasVnrArea         8\n",
      "BsmtFinSF1         0\n",
      "BsmtFinSF2         0\n",
      "BsmtUnfSF          0\n",
      "TotalBsmtSF        0\n",
      "1stFlrSF           0\n",
      "2ndFlrSF           0\n",
      "LowQualFinSF       0\n",
      "GrLivArea          0\n",
      "BsmtFullBath       0\n",
      "BsmtHalfBath       0\n",
      "FullBath           0\n",
      "HalfBath           0\n",
      "BedroomAbvGr       0\n",
      "KitchenAbvGr       0\n",
      "TotRmsAbvGrd       0\n",
      "Fireplaces         0\n",
      "GarageYrBlt       81\n",
      "GarageCars         0\n",
      "GarageArea         0\n",
      "WoodDeckSF         0\n",
      "OpenPorchSF        0\n",
      "EnclosedPorch      0\n",
      "3SsnPorch          0\n",
      "ScreenPorch        0\n",
      "PoolArea           0\n",
      "MiscVal            0\n",
      "MoSold             0\n",
      "YrSold             0\n",
      "dtype: int64\n",
      "\n",
      "\n",
      "Missing data:\n",
      "y:nrows 1460 \n",
      "y.isna().sum():<class 'numpy.int64'>\n",
      "0\n",
      "\n",
      "cols_wMissingEntries: ['LotFrontage', 'MasVnrArea', 'GarageYrBlt']\n"
     ]
    }
   ],
   "source": [
    "# check missing entries\n",
    "print(\"Missing data:\\nX:nrows {} \\nX.isna().sum():{}\\n{}\".format(X.shape[0], type(X.isna().sum()), X.isna().sum()))\n",
    "print(\"\\n\\nMissing data:\\ny:nrows {} \\ny.isna().sum():{}\\n{}\".format(y.shape[0], type(y.isna().sum()), y.isna().sum()))\n",
    "cols_wMissingEntries = [col for col in X.columns if X[col].isna().sum()]\n",
    "print(\"\\ncols_wMissingEntries: {}\".format(cols_wMissingEntries))"
   ]
  },
  {
   "cell_type": "code",
   "execution_count": 4,
   "id": "c8ce9683",
   "metadata": {},
   "outputs": [
    {
     "name": "stdout",
     "output_type": "stream",
     "text": [
      "X: (1460, 36), X_train: (1095, 36), X_valid: (365, 36)\n",
      "y: (1460,), y_train: (1095,), y_valid: (365,)\n"
     ]
    }
   ],
   "source": [
    "X_train, X_valid, y_train, y_valid = train_test_split(X, y, test_size=0.25, random_state=0)\n",
    "print(\"X: {}, X_train: {}, X_valid: {}\".format(X.shape, X_train.shape, X_valid.shape))\n",
    "print(\"y: {}, y_train: {}, y_valid: {}\".format(y.shape, y_train.shape, y_valid.shape))"
   ]
  },
  {
   "cell_type": "code",
   "execution_count": 5,
   "id": "c688ed5c",
   "metadata": {},
   "outputs": [],
   "source": [
    "# define function to evaluate mean absolute error with RandomForestRegressor\n",
    "def estimate_MAE(X_train, X_valid, y_train, y_valid):\n",
    "    ml_model = RandomForestRegressor(n_estimators=100, random_state=0)\n",
    "    ml_model.fit(X_train, y_train)\n",
    "    return mean_absolute_error(y_valid, ml_model.predict(X_valid))"
   ]
  },
  {
   "cell_type": "code",
   "execution_count": 6,
   "id": "0328829f",
   "metadata": {},
   "outputs": [
    {
     "name": "stdout",
     "output_type": "stream",
     "text": [
      "approach 1 to missing data: drop columns:  mean absolute error: 17668.575013698628\n"
     ]
    }
   ],
   "source": [
    "# approach 1 to missing data: drop columns\n",
    "X_train_reduced = X_train.drop(columns=cols_wMissingEntries)\n",
    "X_valid_reduced = X_valid.drop(columns=cols_wMissingEntries)\n",
    "print(\"approach 1 to missing data: drop columns:  mean absolute error: {}\".format(estimate_MAE(X_train_reduced, X_valid_reduced, y_train, y_valid)))"
   ]
  },
  {
   "cell_type": "code",
   "execution_count": 7,
   "id": "1951b932",
   "metadata": {},
   "outputs": [
    {
     "name": "stdout",
     "output_type": "stream",
     "text": [
      "X_train_imputed.shape (1095, 36), X_valid_imputed.shape (365, 36)\n",
      "approach 2 to missing data: impute :  mean absolute error: 17502.924712328768\n"
     ]
    }
   ],
   "source": [
    "# approach 2 to missing data: impute\n",
    "imputer = SimpleImputer()\n",
    "X_train_imputed = pd.DataFrame(imputer.fit_transform(X_train))\n",
    "X_valid_imputed = pd.DataFrame(imputer.transform(X_valid))\n",
    "\n",
    "# imputed dataframe does not have column names, so add them\n",
    "X_train_imputed.columns = X_train.columns\n",
    "X_valid_imputed.columns = X_valid.columns\n",
    "print(\"X_train_imputed.shape {}, X_valid_imputed.shape {}\".format(X_train_imputed.shape, X_valid_imputed.shape))\n",
    "\n",
    "#print(\"X_train_imputed: {}\".format(X_train_imputed))\n",
    "print(\"approach 2 to missing data: impute :  mean absolute error: {}\".format(estimate_MAE(X_train_imputed, X_valid_imputed, y_train, y_valid)))"
   ]
  },
  {
   "cell_type": "code",
   "execution_count": 8,
   "id": "f03adaf2",
   "metadata": {},
   "outputs": [
    {
     "name": "stdout",
     "output_type": "stream",
     "text": [
      "approach 3 to missing data: impute :  mean absolute error: 17530.67128767123\n"
     ]
    }
   ],
   "source": [
    "# approach 3 to missing data: impute with missing_data flag columns\n",
    "X_train_wMissingFlags = X_train.copy()\n",
    "X_valid_wMissingFlags = X_valid.copy()\n",
    "\n",
    "#for X_tmp in [X_train_imputed_wMissingFlags, X_valid_imputed_wMissingFlags]:\n",
    "for col in cols_wMissingEntries:\n",
    "    X_train_wMissingFlags['%s_missing' % col] = X_train[col].isna()\n",
    "    X_valid_wMissingFlags['%s_missing' % col] = X_valid[col].isna()\n",
    "    \n",
    "X_train_imputed_wMissingFlags = pd.DataFrame(imputer.fit_transform(X_train_wMissingFlags))  \n",
    "X_valid_imputed_wMissingFlags = pd.DataFrame(imputer.fit_transform(X_valid_wMissingFlags)) \n",
    "\n",
    "X_train_imputed_wMissingFlags.columns = X_train_wMissingFlags.columns\n",
    "X_valid_imputed_wMissingFlags.columns = X_valid_wMissingFlags.columns\n",
    "\n",
    "print(\"approach 3 to missing data: impute :  mean absolute error: {}\".format(estimate_MAE(X_train_imputed_wMissingFlags, X_valid_imputed_wMissingFlags, y_train, y_valid)))"
   ]
  },
  {
   "cell_type": "code",
   "execution_count": 9,
   "id": "a741d780",
   "metadata": {},
   "outputs": [
    {
     "name": "stdout",
     "output_type": "stream",
     "text": [
      "X_train.columns: Index(['MSSubClass', 'LotFrontage', 'LotArea', 'OverallQual', 'OverallCond',\n",
      "       'YearBuilt', 'YearRemodAdd', 'MasVnrArea', 'BsmtFinSF1', 'BsmtFinSF2',\n",
      "       'BsmtUnfSF', 'TotalBsmtSF', '1stFlrSF', '2ndFlrSF', 'LowQualFinSF',\n",
      "       'GrLivArea', 'BsmtFullBath', 'BsmtHalfBath', 'FullBath', 'HalfBath',\n",
      "       'BedroomAbvGr', 'KitchenAbvGr', 'TotRmsAbvGrd', 'Fireplaces',\n",
      "       'GarageYrBlt', 'GarageCars', 'GarageArea', 'WoodDeckSF', 'OpenPorchSF',\n",
      "       'EnclosedPorch', '3SsnPorch', 'ScreenPorch', 'PoolArea', 'MiscVal',\n",
      "       'MoSold', 'YrSold'],\n",
      "      dtype='object')\n",
      "\n",
      "cols_wMissingEntries: ['LotFrontage', 'MasVnrArea', 'GarageYrBlt']\n"
     ]
    }
   ],
   "source": [
    "print(\"X_train.columns: {}\".format(X_train.columns))\n",
    "\n",
    "print(\"\\ncols_wMissingEntries: {}\".format(cols_wMissingEntries))"
   ]
  },
  {
   "cell_type": "code",
   "execution_count": 26,
   "id": "b3bc7d9d",
   "metadata": {},
   "outputs": [
    {
     "name": "stdout",
     "output_type": "stream",
     "text": [
      "\n",
      "X_train[cols_wMissingEntries]: \n",
      "       LotFrontage   MasVnrArea  GarageYrBlt\n",
      "count   896.000000  1090.000000  1039.000000\n",
      "mean     69.764509   104.244037  1978.094321\n",
      "std      23.116448   183.990710    24.845627\n",
      "min      21.000000     0.000000  1900.000000\n",
      "25%      58.750000     0.000000  1961.000000\n",
      "50%      69.500000     0.000000  1979.000000\n",
      "75%      80.000000   170.000000  2002.000000\n",
      "max     313.000000  1600.000000  2010.000000\n"
     ]
    },
    {
     "data": {
      "text/plain": [
       "<seaborn.axisgrid.FacetGrid at 0x7f480cf88b50>"
      ]
     },
     "execution_count": 26,
     "metadata": {},
     "output_type": "execute_result"
    },
    {
     "data": {
      "image/png": "[encoded data removed]",
      "text/plain": [
       "<Figure size 500x500 with 1 Axes>"
      ]
     },
     "metadata": {},
     "output_type": "display_data"
    }
   ],
   "source": [
    "# final approach to missing data\n",
    "\n",
    "print(\"\\nX_train[cols_wMissingEntries]: \\n{}\".format(X_train[cols_wMissingEntries].describe()))\n",
    "#plt = sns.displot(data=X_train, x='LotFrontage')\n",
    "sns.relplot(data=X_train, x='LotFrontage', y='LotArea').set(xlim=(0, 150), ylim=(0, 30000))\n",
    "#plt.set_ylim(0, 80000)\n",
    "#plt.set(xlim=(0, 150), ylim=(0, 30000))"
   ]
  },
  {
   "cell_type": "code",
   "execution_count": 34,
   "id": "1ec396ae",
   "metadata": {},
   "outputs": [
    {
     "data": {
      "text/html": [
       "<div>\n",
       "<style scoped>\n",
       "    .dataframe tbody tr th:only-of-type {\n",
       "        vertical-align: middle;\n",
       "    }\n",
       "\n",
       "    .dataframe tbody tr th {\n",
       "        vertical-align: top;\n",
       "    }\n",
       "\n",
       "    .dataframe thead th {\n",
       "        text-align: right;\n",
       "    }\n",
       "</style>\n",
       "<table border=\"1\" class=\"dataframe\">\n",
       "  <thead>\n",
       "    <tr style=\"text-align: right;\">\n",
       "      <th></th>\n",
       "      <th>LotFrontage</th>\n",
       "      <th>MasVnrArea</th>\n",
       "      <th>GarageYrBlt</th>\n",
       "    </tr>\n",
       "  </thead>\n",
       "  <tbody>\n",
       "    <tr>\n",
       "      <th>MSSubClass</th>\n",
       "      <td>-0.401263</td>\n",
       "      <td>0.021001</td>\n",
       "      <td>0.071785</td>\n",
       "    </tr>\n",
       "    <tr>\n",
       "      <th>LotFrontage</th>\n",
       "      <td>1.000000</td>\n",
       "      <td>0.165938</td>\n",
       "      <td>0.067168</td>\n",
       "    </tr>\n",
       "    <tr>\n",
       "      <th>LotArea</th>\n",
       "      <td>0.390882</td>\n",
       "      <td>0.063720</td>\n",
       "      <td>-0.033667</td>\n",
       "    </tr>\n",
       "    <tr>\n",
       "      <th>OverallQual</th>\n",
       "      <td>0.215711</td>\n",
       "      <td>0.413987</td>\n",
       "      <td>0.554518</td>\n",
       "    </tr>\n",
       "    <tr>\n",
       "      <th>OverallCond</th>\n",
       "      <td>-0.057798</td>\n",
       "      <td>-0.105114</td>\n",
       "      <td>-0.294850</td>\n",
       "    </tr>\n",
       "    <tr>\n",
       "      <th>YearBuilt</th>\n",
       "      <td>0.126051</td>\n",
       "      <td>0.315838</td>\n",
       "      <td>0.830414</td>\n",
       "    </tr>\n",
       "    <tr>\n",
       "      <th>YearRemodAdd</th>\n",
       "      <td>0.080349</td>\n",
       "      <td>0.187835</td>\n",
       "      <td>0.653946</td>\n",
       "    </tr>\n",
       "    <tr>\n",
       "      <th>MasVnrArea</th>\n",
       "      <td>0.165938</td>\n",
       "      <td>1.000000</td>\n",
       "      <td>0.254465</td>\n",
       "    </tr>\n",
       "    <tr>\n",
       "      <th>BsmtFinSF1</th>\n",
       "      <td>0.175657</td>\n",
       "      <td>0.268251</td>\n",
       "      <td>0.148072</td>\n",
       "    </tr>\n",
       "    <tr>\n",
       "      <th>BsmtFinSF2</th>\n",
       "      <td>0.019934</td>\n",
       "      <td>-0.081692</td>\n",
       "      <td>-0.086555</td>\n",
       "    </tr>\n",
       "    <tr>\n",
       "      <th>BsmtUnfSF</th>\n",
       "      <td>0.113840</td>\n",
       "      <td>0.096770</td>\n",
       "      <td>0.176567</td>\n",
       "    </tr>\n",
       "    <tr>\n",
       "      <th>TotalBsmtSF</th>\n",
       "      <td>0.314621</td>\n",
       "      <td>0.354237</td>\n",
       "      <td>0.314531</td>\n",
       "    </tr>\n",
       "    <tr>\n",
       "      <th>1stFlrSF</th>\n",
       "      <td>0.400042</td>\n",
       "      <td>0.326104</td>\n",
       "      <td>0.219501</td>\n",
       "    </tr>\n",
       "    <tr>\n",
       "      <th>2ndFlrSF</th>\n",
       "      <td>0.041232</td>\n",
       "      <td>0.173402</td>\n",
       "      <td>0.085306</td>\n",
       "    </tr>\n",
       "    <tr>\n",
       "      <th>LowQualFinSF</th>\n",
       "      <td>0.008212</td>\n",
       "      <td>-0.071840</td>\n",
       "      <td>-0.039958</td>\n",
       "    </tr>\n",
       "    <tr>\n",
       "      <th>GrLivArea</th>\n",
       "      <td>0.326551</td>\n",
       "      <td>0.377643</td>\n",
       "      <td>0.231602</td>\n",
       "    </tr>\n",
       "    <tr>\n",
       "      <th>BsmtFullBath</th>\n",
       "      <td>0.110587</td>\n",
       "      <td>0.080211</td>\n",
       "      <td>0.129083</td>\n",
       "    </tr>\n",
       "    <tr>\n",
       "      <th>BsmtHalfBath</th>\n",
       "      <td>0.002533</td>\n",
       "      <td>0.013572</td>\n",
       "      <td>-0.111835</td>\n",
       "    </tr>\n",
       "    <tr>\n",
       "      <th>FullBath</th>\n",
       "      <td>0.185410</td>\n",
       "      <td>0.269703</td>\n",
       "      <td>0.480379</td>\n",
       "    </tr>\n",
       "    <tr>\n",
       "      <th>HalfBath</th>\n",
       "      <td>0.026115</td>\n",
       "      <td>0.215388</td>\n",
       "      <td>0.208571</td>\n",
       "    </tr>\n",
       "    <tr>\n",
       "      <th>BedroomAbvGr</th>\n",
       "      <td>0.259685</td>\n",
       "      <td>0.105157</td>\n",
       "      <td>-0.074193</td>\n",
       "    </tr>\n",
       "    <tr>\n",
       "      <th>KitchenAbvGr</th>\n",
       "      <td>0.003306</td>\n",
       "      <td>-0.037873</td>\n",
       "      <td>-0.143915</td>\n",
       "    </tr>\n",
       "    <tr>\n",
       "      <th>TotRmsAbvGrd</th>\n",
       "      <td>0.321378</td>\n",
       "      <td>0.262141</td>\n",
       "      <td>0.149671</td>\n",
       "    </tr>\n",
       "    <tr>\n",
       "      <th>Fireplaces</th>\n",
       "      <td>0.237901</td>\n",
       "      <td>0.242963</td>\n",
       "      <td>0.052696</td>\n",
       "    </tr>\n",
       "    <tr>\n",
       "      <th>GarageYrBlt</th>\n",
       "      <td>0.067168</td>\n",
       "      <td>0.254465</td>\n",
       "      <td>1.000000</td>\n",
       "    </tr>\n",
       "    <tr>\n",
       "      <th>GarageCars</th>\n",
       "      <td>0.308148</td>\n",
       "      <td>0.368021</td>\n",
       "      <td>0.585199</td>\n",
       "    </tr>\n",
       "    <tr>\n",
       "      <th>GarageArea</th>\n",
       "      <td>0.331701</td>\n",
       "      <td>0.356400</td>\n",
       "      <td>0.559233</td>\n",
       "    </tr>\n",
       "    <tr>\n",
       "      <th>WoodDeckSF</th>\n",
       "      <td>0.059078</td>\n",
       "      <td>0.155696</td>\n",
       "      <td>0.208523</td>\n",
       "    </tr>\n",
       "    <tr>\n",
       "      <th>OpenPorchSF</th>\n",
       "      <td>0.126901</td>\n",
       "      <td>0.127722</td>\n",
       "      <td>0.216822</td>\n",
       "    </tr>\n",
       "    <tr>\n",
       "      <th>EnclosedPorch</th>\n",
       "      <td>0.011153</td>\n",
       "      <td>-0.139714</td>\n",
       "      <td>-0.313073</td>\n",
       "    </tr>\n",
       "    <tr>\n",
       "      <th>3SsnPorch</th>\n",
       "      <td>0.061109</td>\n",
       "      <td>0.012693</td>\n",
       "      <td>0.031804</td>\n",
       "    </tr>\n",
       "    <tr>\n",
       "      <th>ScreenPorch</th>\n",
       "      <td>0.034801</td>\n",
       "      <td>0.041801</td>\n",
       "      <td>-0.077203</td>\n",
       "    </tr>\n",
       "    <tr>\n",
       "      <th>PoolArea</th>\n",
       "      <td>0.089614</td>\n",
       "      <td>-0.025607</td>\n",
       "      <td>-0.043089</td>\n",
       "    </tr>\n",
       "    <tr>\n",
       "      <th>MiscVal</th>\n",
       "      <td>-0.001218</td>\n",
       "      <td>-0.037898</td>\n",
       "      <td>-0.035081</td>\n",
       "    </tr>\n",
       "    <tr>\n",
       "      <th>MoSold</th>\n",
       "      <td>0.051973</td>\n",
       "      <td>0.007562</td>\n",
       "      <td>-0.005543</td>\n",
       "    </tr>\n",
       "    <tr>\n",
       "      <th>YrSold</th>\n",
       "      <td>-0.020752</td>\n",
       "      <td>-0.031500</td>\n",
       "      <td>0.003718</td>\n",
       "    </tr>\n",
       "  </tbody>\n",
       "</table>\n",
       "</div>"
      ],
      "text/plain": [
       "               LotFrontage  MasVnrArea  GarageYrBlt\n",
       "MSSubClass       -0.401263    0.021001     0.071785\n",
       "LotFrontage       1.000000    0.165938     0.067168\n",
       "LotArea           0.390882    0.063720    -0.033667\n",
       "OverallQual       0.215711    0.413987     0.554518\n",
       "OverallCond      -0.057798   -0.105114    -0.294850\n",
       "YearBuilt         0.126051    0.315838     0.830414\n",
       "YearRemodAdd      0.080349    0.187835     0.653946\n",
       "MasVnrArea        0.165938    1.000000     0.254465\n",
       "BsmtFinSF1        0.175657    0.268251     0.148072\n",
       "BsmtFinSF2        0.019934   -0.081692    -0.086555\n",
       "BsmtUnfSF         0.113840    0.096770     0.176567\n",
       "TotalBsmtSF       0.314621    0.354237     0.314531\n",
       "1stFlrSF          0.400042    0.326104     0.219501\n",
       "2ndFlrSF          0.041232    0.173402     0.085306\n",
       "LowQualFinSF      0.008212   -0.071840    -0.039958\n",
       "GrLivArea         0.326551    0.377643     0.231602\n",
       "BsmtFullBath      0.110587    0.080211     0.129083\n",
       "BsmtHalfBath      0.002533    0.013572    -0.111835\n",
       "FullBath          0.185410    0.269703     0.480379\n",
       "HalfBath          0.026115    0.215388     0.208571\n",
       "BedroomAbvGr      0.259685    0.105157    -0.074193\n",
       "KitchenAbvGr      0.003306   -0.037873    -0.143915\n",
       "TotRmsAbvGrd      0.321378    0.262141     0.149671\n",
       "Fireplaces        0.237901    0.242963     0.052696\n",
       "GarageYrBlt       0.067168    0.254465     1.000000\n",
       "GarageCars        0.308148    0.368021     0.585199\n",
       "GarageArea        0.331701    0.356400     0.559233\n",
       "WoodDeckSF        0.059078    0.155696     0.208523\n",
       "OpenPorchSF       0.126901    0.127722     0.216822\n",
       "EnclosedPorch     0.011153   -0.139714    -0.313073\n",
       "3SsnPorch         0.061109    0.012693     0.031804\n",
       "ScreenPorch       0.034801    0.041801    -0.077203\n",
       "PoolArea          0.089614   -0.025607    -0.043089\n",
       "MiscVal          -0.001218   -0.037898    -0.035081\n",
       "MoSold            0.051973    0.007562    -0.005543\n",
       "YrSold           -0.020752   -0.031500     0.003718"
      ]
     },
     "execution_count": 34,
     "metadata": {},
     "output_type": "execute_result"
    }
   ],
   "source": [
    "X_train_Corr = X_train.corr()\n",
    "X_train_Corr[cols_wMissingEntries]"
   ]
  },
  {
   "cell_type": "code",
   "execution_count": 44,
   "id": "85282d46",
   "metadata": {},
   "outputs": [
    {
     "data": {
      "text/plain": [
       "MasVnrArea     1.000000\n",
       "OverallQual    0.413987\n",
       "GrLivArea      0.377643\n",
       "GarageCars     0.368021\n",
       "GarageArea     0.356400\n",
       "TotalBsmtSF    0.354237\n",
       "Name: MasVnrArea, dtype: float64"
      ]
     },
     "execution_count": 44,
     "metadata": {},
     "output_type": "execute_result"
    }
   ],
   "source": [
    "#sns.relplot(data=X_train, x='MasVnrArea', y='LotArea')\n",
    "#type(X_train_Corr['MasVnrArea'])\n",
    "X_train_Corr['MasVnrArea'].sort_values(ascending=False)[:6]\n",
    "#X_train_Corr['MasVnrArea'].sort_values(ascending=True)[:6]"
   ]
  },
  {
   "cell_type": "code",
   "execution_count": 45,
   "id": "55846f3a",
   "metadata": {},
   "outputs": [
    {
     "data": {
      "text/plain": [
       "<seaborn.axisgrid.FacetGrid at 0x7f480a771d50>"
      ]
     },
     "execution_count": 45,
     "metadata": {},
     "output_type": "execute_result"
    },
    {
     "data": {
      "image/png": "[encoded data removed]",
      "text/plain": [
       "<Figure size 500x500 with 1 Axes>"
      ]
     },
     "metadata": {},
     "output_type": "display_data"
    },
    {
     "data": {
      "image/png": "[encoded data removed]",
      "text/plain": [
       "<Figure size 500x500 with 1 Axes>"
      ]
     },
     "metadata": {},
     "output_type": "display_data"
    }
   ],
   "source": [
    "sns.relplot(data=X_train, x='MasVnrArea', y='OverallQual')\n",
    "sns.relplot(data=X_train, x='MasVnrArea', y='GrLivArea')"
   ]
  },
  {
   "cell_type": "code",
   "execution_count": 49,
   "id": "9008e549",
   "metadata": {},
   "outputs": [
    {
     "data": {
      "text/plain": [
       "Id\n",
       "1279    2031\n",
       "937     1200\n",
       "651     1665\n",
       "235     1960\n",
       "974     1428\n",
       "Name: GrLivArea, dtype: int64"
      ]
     },
     "execution_count": 49,
     "metadata": {},
     "output_type": "execute_result"
    }
   ],
   "source": [
    "X_train.loc[X_train['MasVnrArea'].isna()]['GrLivArea']"
   ]
  },
  {
   "cell_type": "code",
   "execution_count": 53,
   "id": "f1ac20fd",
   "metadata": {},
   "outputs": [
    {
     "data": {
      "text/plain": [
       "<seaborn.axisgrid.FacetGrid at 0x7f480a8fea10>"
      ]
     },
     "execution_count": 53,
     "metadata": {},
     "output_type": "execute_result"
    },
    {
     "data": {
      "image/png": "[encoded data removed]",
      "text/plain": [
       "<Figure size 500x500 with 1 Axes>"
      ]
     },
     "metadata": {},
     "output_type": "display_data"
    }
   ],
   "source": [
    "sns.displot(data=X_train, x='MasVnrArea', y='GrLivArea') # 'MasVnrArea' missing value to 0"
   ]
  },
  {
   "cell_type": "code",
   "execution_count": 59,
   "id": "0d0be397",
   "metadata": {},
   "outputs": [
    {
     "data": {
      "text/plain": [
       "GarageYrBlt     1.000000\n",
       "YearBuilt       0.830414\n",
       "YearRemodAdd    0.653946\n",
       "GarageCars      0.585199\n",
       "GarageArea      0.559233\n",
       "OverallQual     0.554518\n",
       "Name: GarageYrBlt, dtype: float64"
      ]
     },
     "execution_count": 59,
     "metadata": {},
     "output_type": "execute_result"
    }
   ],
   "source": [
    "X_train_Corr['GarageYrBlt'].sort_values(ascending=False)[:6]"
   ]
  },
  {
   "cell_type": "code",
   "execution_count": 61,
   "id": "d63c6054",
   "metadata": {},
   "outputs": [
    {
     "data": {
      "text/plain": [
       "<seaborn.axisgrid.FacetGrid at 0x7f48080d7010>"
      ]
     },
     "execution_count": 61,
     "metadata": {},
     "output_type": "execute_result"
    },
    {
     "data": {
      "image/png": "[encoded data removed]",
      "text/plain": [
       "<Figure size 500x500 with 1 Axes>"
      ]
     },
     "metadata": {},
     "output_type": "display_data"
    }
   ],
   "source": [
    "sns.displot(data=X_train, x='GarageYrBlt', y='YearBuilt')"
   ]
  },
  {
   "cell_type": "code",
   "execution_count": 92,
   "id": "5183594a",
   "metadata": {},
   "outputs": [
    {
     "name": "stdout",
     "output_type": "stream",
     "text": [
      "cols_wMissingEntries:  ['LotFrontage', 'MasVnrArea', 'GarageYrBlt']\n",
      "X_train_final['GarageYrBlt']: \n",
      "Id\n",
      "1293    1985.0\n",
      "1019    1991.0\n",
      "1214    1965.0\n",
      "1431    2005.0\n",
      "811     1974.0\n",
      "         ...  \n",
      "764     1999.0\n",
      "836     1996.0\n",
      "1217    1978.0\n",
      "560     2003.0\n",
      "685     1998.0\n",
      "Name: GarageYrBlt, Length: 1095, dtype: float64, \n",
      "\n",
      "X_train['GarageYrBlt']: \n",
      "Id\n",
      "1293    1985.0\n",
      "1019    1991.0\n",
      "1214    1965.0\n",
      "1431    2005.0\n",
      "811     1974.0\n",
      "         ...  \n",
      "764     1999.0\n",
      "836     1996.0\n",
      "1217    1978.0\n",
      "560     2003.0\n",
      "685     1998.0\n",
      "Name: GarageYrBlt, Length: 1095, dtype: float64\n",
      "\n",
      "\n",
      "X_train_final['GarageYrBlt']: \n",
      "count    1095.000000\n",
      "mean     1976.276712\n",
      "std        26.218202\n",
      "min      1872.000000\n",
      "25%      1959.000000\n",
      "50%      1977.000000\n",
      "75%      2001.000000\n",
      "max      2010.000000\n",
      "Name: GarageYrBlt, dtype: float64, \n",
      "\n",
      "X_train['GarageYrBlt']: \n",
      "count    1039.000000\n",
      "mean     1978.094321\n",
      "std        24.845627\n",
      "min      1900.000000\n",
      "25%      1961.000000\n",
      "50%      1979.000000\n",
      "75%      2002.000000\n",
      "max      2010.000000\n",
      "Name: GarageYrBlt, dtype: float64\n",
      "\n",
      "\n",
      "X_train_final.isna().any().sum(): b0\n"
     ]
    }
   ],
   "source": [
    "# final dataset\n",
    "\n",
    "X_train_final = X_train.copy()\n",
    "X_valid_final = X_valid.copy()\n",
    "X_test_final  = X_test.copy()\n",
    "\n",
    "print(\"cols_wMissingEntries: \",cols_wMissingEntries) \n",
    "# cols_wMissingEntries:  ['LotFrontage', 'MasVnrArea', 'GarageYrBlt']\n",
    "\n",
    "# var 'LotFrontage'\n",
    "var_LotFrontage_valueToUse = X_train_final['LotFrontage'].min()\n",
    "for X_tmp in [X_train_final, X_valid_final, X_test_final]:\n",
    "    X_tmp['LotFrontage'].fillna(var_LotFrontage_valueToUse, inplace=True)\n",
    "\n",
    "# var 'MasVnrArea'\n",
    "var_MasVnrArea_valueToUse = X_train_final['MasVnrArea'].min()\n",
    "for X_tmp in [X_train_final, X_valid_final, X_test_final]:\n",
    "    X_tmp['MasVnrArea'].fillna(var_MasVnrArea_valueToUse, inplace=True)\n",
    "\n",
    "for X_tmp in [X_train_final, X_valid_final, X_test_final]:\n",
    "    #print(\"1: \",X_tmp['GarageYrBlt'].index)\n",
    "    #for idx in X_tmp['GarageYrBlt'].index:\n",
    "    for idx in X_tmp.index:\n",
    "        #print(\"X {}: {}\".format(idx, X_tmp.loc[idx, 'GarageYrBlt']))\n",
    "        if np.isnan(X_tmp.loc[idx, 'GarageYrBlt']):\n",
    "            #print(\"isnan found\")\n",
    "            X_tmp.loc[idx, 'GarageYrBlt'] = X_tmp.loc[idx, 'YearBuilt']\n",
    "print(\"X_train_final['GarageYrBlt']: \\n{}, \\n\\nX_train['GarageYrBlt']: \\n{}\".format(X_train_final['GarageYrBlt'], X_train['GarageYrBlt']))\n",
    "print(\"\\n\\nX_train_final['GarageYrBlt']: \\n{}, \\n\\nX_train['GarageYrBlt']: \\n{}\".format(X_train_final['GarageYrBlt'].describe(), X_train['GarageYrBlt'].describe()))\n",
    "\n",
    "print(\"\\n\\nX_train_final.isna().any().sum(): {}\".format(X_train_final.isna().any().sum()))"
   ]
  },
  {
   "cell_type": "code",
   "execution_count": 98,
   "id": "16e436c1",
   "metadata": {},
   "outputs": [
    {
     "name": "stdout",
     "output_type": "stream",
     "text": [
      "0: X_train_final.columns (1095, 39): Index(['MSSubClass', 'LotFrontage', 'LotArea', 'OverallQual', 'OverallCond',\n",
      "       'YearBuilt', 'YearRemodAdd', 'MasVnrArea', 'BsmtFinSF1', 'BsmtFinSF2',\n",
      "       'BsmtUnfSF', 'TotalBsmtSF', '1stFlrSF', '2ndFlrSF', 'LowQualFinSF',\n",
      "       'GrLivArea', 'BsmtFullBath', 'BsmtHalfBath', 'FullBath', 'HalfBath',\n",
      "       'BedroomAbvGr', 'KitchenAbvGr', 'TotRmsAbvGrd', 'Fireplaces',\n",
      "       'GarageYrBlt', 'GarageCars', 'GarageArea', 'WoodDeckSF', 'OpenPorchSF',\n",
      "       'EnclosedPorch', '3SsnPorch', 'ScreenPorch', 'PoolArea', 'MiscVal',\n",
      "       'MoSold', 'YrSold', 'LotFrontage_missing', 'MasVnrArea_missing',\n",
      "       'GarageYrBlt_missing'],\n",
      "      dtype='object'), \n",
      "X_train_final_wMissingValueFlags.columns (1095, 39): Index(['MSSubClass', 'LotFrontage', 'LotArea', 'OverallQual', 'OverallCond',\n",
      "       'YearBuilt', 'YearRemodAdd', 'MasVnrArea', 'BsmtFinSF1', 'BsmtFinSF2',\n",
      "       'BsmtUnfSF', 'TotalBsmtSF', '1stFlrSF', '2ndFlrSF', 'LowQualFinSF',\n",
      "       'GrLivArea', 'BsmtFullBath', 'BsmtHalfBath', 'FullBath', 'HalfBath',\n",
      "       'BedroomAbvGr', 'KitchenAbvGr', 'TotRmsAbvGrd', 'Fireplaces',\n",
      "       'GarageYrBlt', 'GarageCars', 'GarageArea', 'WoodDeckSF', 'OpenPorchSF',\n",
      "       'EnclosedPorch', '3SsnPorch', 'ScreenPorch', 'PoolArea', 'MiscVal',\n",
      "       'MoSold', 'YrSold', 'LotFrontage_missing', 'MasVnrArea_missing',\n",
      "       'GarageYrBlt_missing'],\n",
      "      dtype='object')\n",
      "1: X_train_final.columns (1095, 39): Index(['MSSubClass', 'LotFrontage', 'LotArea', 'OverallQual', 'OverallCond',\n",
      "       'YearBuilt', 'YearRemodAdd', 'MasVnrArea', 'BsmtFinSF1', 'BsmtFinSF2',\n",
      "       'BsmtUnfSF', 'TotalBsmtSF', '1stFlrSF', '2ndFlrSF', 'LowQualFinSF',\n",
      "       'GrLivArea', 'BsmtFullBath', 'BsmtHalfBath', 'FullBath', 'HalfBath',\n",
      "       'BedroomAbvGr', 'KitchenAbvGr', 'TotRmsAbvGrd', 'Fireplaces',\n",
      "       'GarageYrBlt', 'GarageCars', 'GarageArea', 'WoodDeckSF', 'OpenPorchSF',\n",
      "       'EnclosedPorch', '3SsnPorch', 'ScreenPorch', 'PoolArea', 'MiscVal',\n",
      "       'MoSold', 'YrSold', 'LotFrontage_missing', 'MasVnrArea_missing',\n",
      "       'GarageYrBlt_missing'],\n",
      "      dtype='object'), \n",
      "X_train_final_wMissingValueFlags.columns (1095, 39): Index(['MSSubClass', 'LotFrontage', 'LotArea', 'OverallQual', 'OverallCond',\n",
      "       'YearBuilt', 'YearRemodAdd', 'MasVnrArea', 'BsmtFinSF1', 'BsmtFinSF2',\n",
      "       'BsmtUnfSF', 'TotalBsmtSF', '1stFlrSF', '2ndFlrSF', 'LowQualFinSF',\n",
      "       'GrLivArea', 'BsmtFullBath', 'BsmtHalfBath', 'FullBath', 'HalfBath',\n",
      "       'BedroomAbvGr', 'KitchenAbvGr', 'TotRmsAbvGrd', 'Fireplaces',\n",
      "       'GarageYrBlt', 'GarageCars', 'GarageArea', 'WoodDeckSF', 'OpenPorchSF',\n",
      "       'EnclosedPorch', '3SsnPorch', 'ScreenPorch', 'PoolArea', 'MiscVal',\n",
      "       'MoSold', 'YrSold', 'LotFrontage_missing', 'MasVnrArea_missing',\n",
      "       'GarageYrBlt_missing'],\n",
      "      dtype='object')\n"
     ]
    }
   ],
   "source": [
    "# add columns indicating missing value flags\n",
    "X_train_final_wMissingValueFlags = X_train_final.copy()\n",
    "X_valid_final_wMissingValueFlags = X_valid_final.copy()\n",
    "X_test_final_wMissingValueFlags  = X_test_final.copy()\n",
    "\n",
    "print(\"0: X_train_final.columns {}: {}, \\nX_train_final_wMissingValueFlags.columns {}: {}\".format(X_train_final.shape, X_train_final.columns, X_train_final_wMissingValueFlags.shape, X_train_final_wMissingValueFlags.columns))\n",
    "\n",
    "for X_tmp_pair in [(X_train_final, X_train), (X_valid_final, X_valid), (X_test_final, X_test)]:\n",
    "    #print(\"\\n\\nX_0: \\n{} \\nX_1: \\n{}\".format(X_tmp_pair[0][cols_wMissingEntries].describe(), X_tmp_pair[1][cols_wMissingEntries].describe()))\n",
    "    X_tmp_final = X_tmp_pair[0]\n",
    "    X_tmp       = X_tmp_pair[1]\n",
    "    for col in cols_wMissingEntries:\n",
    "        X_tmp_final['%s_missing' % col] = X_tmp[col].isna()\n",
    "    \n",
    "print(\"1: X_train_final.columns {}: {}, \\nX_train_final_wMissingValueFlags.columns {}: {}\".format(X_train_final.shape, X_train_final.columns, X_train_final_wMissingValueFlags.shape, X_train_final_wMissingValueFlags.columns))"
   ]
  }
 ],
 "metadata": {
  "kernelspec": {
   "display_name": "Python 3 (ipykernel)",
   "language": "python",
   "name": "python3"
  },
  "language_info": {
   "codemirror_mode": {
    "name": "ipython",
    "version": 3
   },
   "file_extension": ".py",
   "mimetype": "text/x-python",
   "name": "python",
   "nbconvert_exporter": "python",
   "pygments_lexer": "ipython3",
   "version": "3.10.5"
  }
 },
 "nbformat": 4,
 "nbformat_minor": 5
}

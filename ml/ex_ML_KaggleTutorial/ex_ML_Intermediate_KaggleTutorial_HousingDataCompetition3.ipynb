{
 "cells": [
  {
   "cell_type": "code",
   "execution_count": 8,
   "id": "b1b38336",
   "metadata": {},
   "outputs": [],
   "source": [
    "import pandas as pd\n",
    "import numpy as np\n",
    "from sklearn.model_selection import train_test_split\n",
    "\n",
    "train_data_full = pd.read_csv(\"home-data-for-ml-course/train.csv\", index_col=\"Id\")\n",
    "\n",
    "y = train_data_full['SalePrice']\n",
    "X = train_data_full.drop(columns=['SalePrice'])\n",
    "\n",
    "X_train, X_valid, y_train, y_valid = train_test_split(X, y, test_size=0.2, random state=0)"
   ]
  },
  {
   "cell_type": "code",
   "execution_count": null,
   "id": "a6a698a9",
   "metadata": {},
   "outputs": [],
   "source": []
  }
 ],
 "metadata": {
  "kernelspec": {
   "display_name": "Python 3 (ipykernel)",
   "language": "python",
   "name": "python3"
  },
  "language_info": {
   "codemirror_mode": {
    "name": "ipython",
    "version": 3
   },
   "file_extension": ".py",
   "mimetype": "text/x-python",
   "name": "python",
   "nbconvert_exporter": "python",
   "pygments_lexer": "ipython3",
   "version": "3.10.5"
  }
 },
 "nbformat": 4,
 "nbformat_minor": 5
}

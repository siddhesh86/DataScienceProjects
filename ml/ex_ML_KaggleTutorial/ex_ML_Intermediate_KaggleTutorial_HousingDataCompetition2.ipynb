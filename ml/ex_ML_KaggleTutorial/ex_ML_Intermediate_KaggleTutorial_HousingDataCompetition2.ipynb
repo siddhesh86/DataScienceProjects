{
 "cells": [
  {
   "cell_type": "code",
   "execution_count": 29,
   "id": "cb2c7780",
   "metadata": {},
   "outputs": [
    {
     "name": "stdout",
     "output_type": "stream",
     "text": [
      "train_data_full.columns: Index(['MSSubClass', 'MSZoning', 'LotFrontage', 'LotArea', 'Street', 'Alley',\n",
      "       'LotShape', 'LandContour', 'Utilities', 'LotConfig', 'LandSlope',\n",
      "       'Neighborhood', 'Condition1', 'Condition2', 'BldgType', 'HouseStyle',\n",
      "       'OverallQual', 'OverallCond', 'YearBuilt', 'YearRemodAdd', 'RoofStyle',\n",
      "       'RoofMatl', 'Exterior1st', 'Exterior2nd', 'MasVnrType', 'MasVnrArea',\n",
      "       'ExterQual', 'ExterCond', 'Foundation', 'BsmtQual', 'BsmtCond',\n",
      "       'BsmtExposure', 'BsmtFinType1', 'BsmtFinSF1', 'BsmtFinType2',\n",
      "       'BsmtFinSF2', 'BsmtUnfSF', 'TotalBsmtSF', 'Heating', 'HeatingQC',\n",
      "       'CentralAir', 'Electrical', '1stFlrSF', '2ndFlrSF', 'LowQualFinSF',\n",
      "       'GrLivArea', 'BsmtFullBath', 'BsmtHalfBath', 'FullBath', 'HalfBath',\n",
      "       'BedroomAbvGr', 'KitchenAbvGr', 'KitchenQual', 'TotRmsAbvGrd',\n",
      "       'Functional', 'Fireplaces', 'FireplaceQu', 'GarageType', 'GarageYrBlt',\n",
      "       'GarageFinish', 'GarageCars', 'GarageArea', 'GarageQual', 'GarageCond',\n",
      "       'PavedDrive', 'WoodDeckSF', 'OpenPorchSF', 'EnclosedPorch', '3SsnPorch',\n",
      "       'ScreenPorch', 'PoolArea', 'PoolQC', 'Fence', 'MiscFeature', 'MiscVal',\n",
      "       'MoSold', 'YrSold', 'SaleType', 'SaleCondition', 'SalePrice'],\n",
      "      dtype='object'), \n",
      "test_data_full,columns: Index(['MSSubClass', 'MSZoning', 'LotFrontage', 'LotArea', 'Street', 'Alley',\n",
      "       'LotShape', 'LandContour', 'Utilities', 'LotConfig', 'LandSlope',\n",
      "       'Neighborhood', 'Condition1', 'Condition2', 'BldgType', 'HouseStyle',\n",
      "       'OverallQual', 'OverallCond', 'YearBuilt', 'YearRemodAdd', 'RoofStyle',\n",
      "       'RoofMatl', 'Exterior1st', 'Exterior2nd', 'MasVnrType', 'MasVnrArea',\n",
      "       'ExterQual', 'ExterCond', 'Foundation', 'BsmtQual', 'BsmtCond',\n",
      "       'BsmtExposure', 'BsmtFinType1', 'BsmtFinSF1', 'BsmtFinType2',\n",
      "       'BsmtFinSF2', 'BsmtUnfSF', 'TotalBsmtSF', 'Heating', 'HeatingQC',\n",
      "       'CentralAir', 'Electrical', '1stFlrSF', '2ndFlrSF', 'LowQualFinSF',\n",
      "       'GrLivArea', 'BsmtFullBath', 'BsmtHalfBath', 'FullBath', 'HalfBath',\n",
      "       'BedroomAbvGr', 'KitchenAbvGr', 'KitchenQual', 'TotRmsAbvGrd',\n",
      "       'Functional', 'Fireplaces', 'FireplaceQu', 'GarageType', 'GarageYrBlt',\n",
      "       'GarageFinish', 'GarageCars', 'GarageArea', 'GarageQual', 'GarageCond',\n",
      "       'PavedDrive', 'WoodDeckSF', 'OpenPorchSF', 'EnclosedPorch', '3SsnPorch',\n",
      "       'ScreenPorch', 'PoolArea', 'PoolQC', 'Fence', 'MiscFeature', 'MiscVal',\n",
      "       'MoSold', 'YrSold', 'SaleType', 'SaleCondition'],\n",
      "      dtype='object')\n",
      "train_data_full.shape: (1460, 80), test_data_full.shape: (1459, 79)\n"
     ]
    }
   ],
   "source": [
    "import pandas as pd\n",
    "import numpy as np\n",
    "from sklearn.model_selection import train_test_split\n",
    "from sklearn.ensemble import RandomForestRegressor\n",
    "from sklearn.metrics import mean_absolute_error\n",
    "from sklearn.impute import SimpleImputer\n",
    "import seaborn as sns\n",
    "\n",
    "train_data_full = pd.read_csv(\"home-data-for-ml-course/train.csv\", index_col='Id')\n",
    "test_data_full = pd.read_csv(\"home-data-for-ml-course/test.csv\", index_col='Id')\n",
    "\n",
    "print(\"train_data_full.columns: {}, \\ntest_data_full,columns: {}\".format(train_data_full.columns, test_data_full.columns))\n",
    "print(\"train_data_full.shape: {}, test_data_full.shape: {}\".format(train_data_full.shape, test_data_full.shape))"
   ]
  },
  {
   "cell_type": "code",
   "execution_count": 2,
   "id": "bc5900e9",
   "metadata": {},
   "outputs": [
    {
     "name": "stdout",
     "output_type": "stream",
     "text": [
      "X:(1460, 36) \n",
      "        MSSubClass  LotFrontage        LotArea  OverallQual  OverallCond  \\\n",
      "count  1460.000000  1201.000000    1460.000000  1460.000000  1460.000000   \n",
      "mean     56.897260    70.049958   10516.828082     6.099315     5.575342   \n",
      "std      42.300571    24.284752    9981.264932     1.382997     1.112799   \n",
      "min      20.000000    21.000000    1300.000000     1.000000     1.000000   \n",
      "25%      20.000000    59.000000    7553.500000     5.000000     5.000000   \n",
      "50%      50.000000    69.000000    9478.500000     6.000000     5.000000   \n",
      "75%      70.000000    80.000000   11601.500000     7.000000     6.000000   \n",
      "max     190.000000   313.000000  215245.000000    10.000000     9.000000   \n",
      "\n",
      "         YearBuilt  YearRemodAdd   MasVnrArea   BsmtFinSF1   BsmtFinSF2  ...  \\\n",
      "count  1460.000000   1460.000000  1452.000000  1460.000000  1460.000000  ...   \n",
      "mean   1971.267808   1984.865753   103.685262   443.639726    46.549315  ...   \n",
      "std      30.202904     20.645407   181.066207   456.098091   161.319273  ...   \n",
      "min    1872.000000   1950.000000     0.000000     0.000000     0.000000  ...   \n",
      "25%    1954.000000   1967.000000     0.000000     0.000000     0.000000  ...   \n",
      "50%    1973.000000   1994.000000     0.000000   383.500000     0.000000  ...   \n",
      "75%    2000.000000   2004.000000   166.000000   712.250000     0.000000  ...   \n",
      "max    2010.000000   2010.000000  1600.000000  5644.000000  1474.000000  ...   \n",
      "\n",
      "        GarageArea   WoodDeckSF  OpenPorchSF  EnclosedPorch    3SsnPorch  \\\n",
      "count  1460.000000  1460.000000  1460.000000    1460.000000  1460.000000   \n",
      "mean    472.980137    94.244521    46.660274      21.954110     3.409589   \n",
      "std     213.804841   125.338794    66.256028      61.119149    29.317331   \n",
      "min       0.000000     0.000000     0.000000       0.000000     0.000000   \n",
      "25%     334.500000     0.000000     0.000000       0.000000     0.000000   \n",
      "50%     480.000000     0.000000    25.000000       0.000000     0.000000   \n",
      "75%     576.000000   168.000000    68.000000       0.000000     0.000000   \n",
      "max    1418.000000   857.000000   547.000000     552.000000   508.000000   \n",
      "\n",
      "       ScreenPorch     PoolArea       MiscVal       MoSold       YrSold  \n",
      "count  1460.000000  1460.000000   1460.000000  1460.000000  1460.000000  \n",
      "mean     15.060959     2.758904     43.489041     6.321918  2007.815753  \n",
      "std      55.757415    40.177307    496.123024     2.703626     1.328095  \n",
      "min       0.000000     0.000000      0.000000     1.000000  2006.000000  \n",
      "25%       0.000000     0.000000      0.000000     5.000000  2007.000000  \n",
      "50%       0.000000     0.000000      0.000000     6.000000  2008.000000  \n",
      "75%       0.000000     0.000000      0.000000     8.000000  2009.000000  \n",
      "max     480.000000   738.000000  15500.000000    12.000000  2010.000000  \n",
      "\n",
      "[8 rows x 36 columns]  \n",
      "\n",
      "y:(1460,) \n",
      "count      1460.000000\n",
      "mean     180921.195890\n",
      "std       79442.502883\n",
      "min       34900.000000\n",
      "25%      129975.000000\n",
      "50%      163000.000000\n",
      "75%      214000.000000\n",
      "max      755000.000000\n",
      "Name: SalePrice, dtype: float64\n",
      "\n",
      "\n",
      "X_test:(1459, 36) \n",
      "        MSSubClass  LotFrontage       LotArea  OverallQual  OverallCond  \\\n",
      "count  1459.000000  1232.000000   1459.000000  1459.000000  1459.000000   \n",
      "mean     57.378341    68.580357   9819.161069     6.078821     5.553804   \n",
      "std      42.746880    22.376841   4955.517327     1.436812     1.113740   \n",
      "min      20.000000    21.000000   1470.000000     1.000000     1.000000   \n",
      "25%      20.000000    58.000000   7391.000000     5.000000     5.000000   \n",
      "50%      50.000000    67.000000   9399.000000     6.000000     5.000000   \n",
      "75%      70.000000    80.000000  11517.500000     7.000000     6.000000   \n",
      "max     190.000000   200.000000  56600.000000    10.000000     9.000000   \n",
      "\n",
      "         YearBuilt  YearRemodAdd   MasVnrArea   BsmtFinSF1   BsmtFinSF2  ...  \\\n",
      "count  1459.000000   1459.000000  1444.000000  1458.000000  1458.000000  ...   \n",
      "mean   1971.357779   1983.662783   100.709141   439.203704    52.619342  ...   \n",
      "std      30.390071     21.130467   177.625900   455.268042   176.753926  ...   \n",
      "min    1879.000000   1950.000000     0.000000     0.000000     0.000000  ...   \n",
      "25%    1953.000000   1963.000000     0.000000     0.000000     0.000000  ...   \n",
      "50%    1973.000000   1992.000000     0.000000   350.500000     0.000000  ...   \n",
      "75%    2001.000000   2004.000000   164.000000   753.500000     0.000000  ...   \n",
      "max    2010.000000   2010.000000  1290.000000  4010.000000  1526.000000  ...   \n",
      "\n",
      "        GarageArea   WoodDeckSF  OpenPorchSF  EnclosedPorch    3SsnPorch  \\\n",
      "count  1458.000000  1459.000000  1459.000000    1459.000000  1459.000000   \n",
      "mean    472.768861    93.174777    48.313914      24.243317     1.794380   \n",
      "std     217.048611   127.744882    68.883364      67.227765    20.207842   \n",
      "min       0.000000     0.000000     0.000000       0.000000     0.000000   \n",
      "25%     318.000000     0.000000     0.000000       0.000000     0.000000   \n",
      "50%     480.000000     0.000000    28.000000       0.000000     0.000000   \n",
      "75%     576.000000   168.000000    72.000000       0.000000     0.000000   \n",
      "max    1488.000000  1424.000000   742.000000    1012.000000   360.000000   \n",
      "\n",
      "       ScreenPorch     PoolArea       MiscVal       MoSold       YrSold  \n",
      "count  1459.000000  1459.000000   1459.000000  1459.000000  1459.000000  \n",
      "mean     17.064428     1.744345     58.167923     6.104181  2007.769705  \n",
      "std      56.609763    30.491646    630.806978     2.722432     1.301740  \n",
      "min       0.000000     0.000000      0.000000     1.000000  2006.000000  \n",
      "25%       0.000000     0.000000      0.000000     4.000000  2007.000000  \n",
      "50%       0.000000     0.000000      0.000000     6.000000  2008.000000  \n",
      "75%       0.000000     0.000000      0.000000     8.000000  2009.000000  \n",
      "max     576.000000   800.000000  17000.000000    12.000000  2010.000000  \n",
      "\n",
      "[8 rows x 36 columns]\n"
     ]
    }
   ],
   "source": [
    "y = train_data_full['SalePrice']\n",
    "\n",
    "X = train_data_full.drop(columns=['SalePrice']).select_dtypes(exclude='object')\n",
    "\n",
    "X_test = test_data_full.select_dtypes(exclude='object')\n",
    "print(\"X:{} \\n{}  \\n\\ny:{} \\n{}\".format(X.shape, X.describe(), y.shape, y.describe()))\n",
    "print(\"\\n\\nX_test:{} \\n{}\".format(X_test.shape, X_test.describe()))"
   ]
  },
  {
   "cell_type": "code",
   "execution_count": 3,
   "id": "fb8e1650",
   "metadata": {},
   "outputs": [
    {
     "name": "stdout",
     "output_type": "stream",
     "text": [
      "Missing data:\n",
      "X:nrows 1460 \n",
      "X.isna().sum():<class 'pandas.core.series.Series'>\n",
      "MSSubClass         0\n",
      "LotFrontage      259\n",
      "LotArea            0\n",
      "OverallQual        0\n",
      "OverallCond        0\n",
      "YearBuilt          0\n",
      "YearRemodAdd       0\n",
      "MasVnrArea         8\n",
      "BsmtFinSF1         0\n",
      "BsmtFinSF2         0\n",
      "BsmtUnfSF          0\n",
      "TotalBsmtSF        0\n",
      "1stFlrSF           0\n",
      "2ndFlrSF           0\n",
      "LowQualFinSF       0\n",
      "GrLivArea          0\n",
      "BsmtFullBath       0\n",
      "BsmtHalfBath       0\n",
      "FullBath           0\n",
      "HalfBath           0\n",
      "BedroomAbvGr       0\n",
      "KitchenAbvGr       0\n",
      "TotRmsAbvGrd       0\n",
      "Fireplaces         0\n",
      "GarageYrBlt       81\n",
      "GarageCars         0\n",
      "GarageArea         0\n",
      "WoodDeckSF         0\n",
      "OpenPorchSF        0\n",
      "EnclosedPorch      0\n",
      "3SsnPorch          0\n",
      "ScreenPorch        0\n",
      "PoolArea           0\n",
      "MiscVal            0\n",
      "MoSold             0\n",
      "YrSold             0\n",
      "dtype: int64\n",
      "\n",
      "\n",
      "Missing data:\n",
      "y:nrows 1460 \n",
      "y.isna().sum():<class 'numpy.int64'>\n",
      "0\n",
      "\n",
      "cols_wMissingEntries: ['LotFrontage', 'MasVnrArea', 'GarageYrBlt']\n"
     ]
    }
   ],
   "source": [
    "# check missing entries\n",
    "print(\"Missing data:\\nX:nrows {} \\nX.isna().sum():{}\\n{}\".format(X.shape[0], type(X.isna().sum()), X.isna().sum()))\n",
    "print(\"\\n\\nMissing data:\\ny:nrows {} \\ny.isna().sum():{}\\n{}\".format(y.shape[0], type(y.isna().sum()), y.isna().sum()))\n",
    "cols_wMissingEntries = [col for col in X.columns if X[col].isna().sum()]\n",
    "print(\"\\ncols_wMissingEntries: {}\".format(cols_wMissingEntries))"
   ]
  },
  {
   "cell_type": "code",
   "execution_count": 4,
   "id": "c8ce9683",
   "metadata": {},
   "outputs": [
    {
     "name": "stdout",
     "output_type": "stream",
     "text": [
      "X: (1460, 36), X_train: (1168, 36), X_valid: (292, 36), X_testL (1459, 36)\n",
      "y: (1460,), y_train: (1168,), y_valid: (292,)\n"
     ]
    }
   ],
   "source": [
    "X_train, X_valid, y_train, y_valid = train_test_split(X, y, test_size=0.2, random_state=0)\n",
    "print(\"X: {}, X_train: {}, X_valid: {}, X_testL {}\".format(X.shape, X_train.shape, X_valid.shape, X_test.shape))\n",
    "print(\"y: {}, y_train: {}, y_valid: {}\".format(y.shape, y_train.shape, y_valid.shape))"
   ]
  },
  {
   "cell_type": "code",
   "execution_count": 5,
   "id": "c688ed5c",
   "metadata": {},
   "outputs": [],
   "source": [
    "# define function to evaluate mean absolute error with RandomForestRegressor\n",
    "def estimate_MAE(X_train, X_valid, y_train, y_valid):\n",
    "    ml_model = RandomForestRegressor(n_estimators=100, random_state=0)\n",
    "    ml_model.fit(X_train, y_train)\n",
    "    return mean_absolute_error(y_valid, ml_model.predict(X_valid))"
   ]
  },
  {
   "cell_type": "code",
   "execution_count": 6,
   "id": "0328829f",
   "metadata": {},
   "outputs": [
    {
     "name": "stdout",
     "output_type": "stream",
     "text": [
      "approach 1 to missing data: drop columns:  mean absolute error: 17837.82570776256\n",
      "X: (1460, 36), X_train: (1168, 36), X_valid: (292, 36), X_testL (1459, 36)\n",
      "X_train_reduced: (1168, 33)\n"
     ]
    }
   ],
   "source": [
    "# approach 1 to missing data: drop columns\n",
    "X_train_reduced = X_train.drop(columns=cols_wMissingEntries)\n",
    "X_valid_reduced = X_valid.drop(columns=cols_wMissingEntries)\n",
    "print(\"approach 1 to missing data: drop columns:  mean absolute error: {}\".format(estimate_MAE(X_train_reduced, X_valid_reduced, y_train, y_valid)))\n",
    "print(\"X: {}, X_train: {}, X_valid: {}, X_testL {}\".format(X.shape, X_train.shape, X_valid.shape, X_test.shape))\n",
    "print(\"X_train_reduced: {}\".format(X_train_reduced.shape))"
   ]
  },
  {
   "cell_type": "code",
   "execution_count": 7,
   "id": "1951b932",
   "metadata": {},
   "outputs": [
    {
     "name": "stdout",
     "output_type": "stream",
     "text": [
      "X_train_imputed.shape (1168, 36), X_valid_imputed.shape (292, 36)\n",
      "approach 2 to missing data: impute :  mean absolute error: 18062.894611872147\n",
      "X: (1460, 36), X_train: (1168, 36), X_valid: (292, 36), X_testL (1459, 36)\n",
      "X_train_imputed: (1168, 36)\n"
     ]
    }
   ],
   "source": [
    "# approach 2 to missing data: impute\n",
    "imputer = SimpleImputer()\n",
    "X_train_imputed = pd.DataFrame(imputer.fit_transform(X_train))\n",
    "X_valid_imputed = pd.DataFrame(imputer.transform(X_valid))\n",
    "\n",
    "# imputed dataframe does not have column names, so add them\n",
    "X_train_imputed.columns = X_train.columns\n",
    "X_valid_imputed.columns = X_valid.columns\n",
    "print(\"X_train_imputed.shape {}, X_valid_imputed.shape {}\".format(X_train_imputed.shape, X_valid_imputed.shape))\n",
    "\n",
    "#print(\"X_train_imputed: {}\".format(X_train_imputed))\n",
    "print(\"approach 2 to missing data: impute :  mean absolute error: {}\".format(estimate_MAE(X_train_imputed, X_valid_imputed, y_train, y_valid)))\n",
    "print(\"X: {}, X_train: {}, X_valid: {}, X_testL {}\".format(X.shape, X_train.shape, X_valid.shape, X_test.shape))\n",
    "print(\"X_train_imputed: {}\".format(X_train_imputed.shape))"
   ]
  },
  {
   "cell_type": "code",
   "execution_count": 8,
   "id": "f03adaf2",
   "metadata": {},
   "outputs": [
    {
     "name": "stdout",
     "output_type": "stream",
     "text": [
      "approach 3 to missing data: impute :  mean absolute error: 18135.90062785388\n",
      "X: (1460, 36), X_train: (1168, 36), X_valid: (292, 36), X_testL (1459, 36)\n"
     ]
    }
   ],
   "source": [
    "# approach 3 to missing data: impute with missing_data flag columns\n",
    "X_train_wMissingFlags = X_train.copy()\n",
    "X_valid_wMissingFlags = X_valid.copy()\n",
    "\n",
    "#for X_tmp in [X_train_imputed_wMissingFlags, X_valid_imputed_wMissingFlags]:\n",
    "for col in cols_wMissingEntries:\n",
    "    X_train_wMissingFlags['%s_missing' % col] = X_train[col].isna()\n",
    "    X_valid_wMissingFlags['%s_missing' % col] = X_valid[col].isna()\n",
    "    \n",
    "X_train_imputed_wMissingFlags = pd.DataFrame(imputer.fit_transform(X_train_wMissingFlags))  \n",
    "X_valid_imputed_wMissingFlags = pd.DataFrame(imputer.fit_transform(X_valid_wMissingFlags)) \n",
    "\n",
    "X_train_imputed_wMissingFlags.columns = X_train_wMissingFlags.columns\n",
    "X_valid_imputed_wMissingFlags.columns = X_valid_wMissingFlags.columns\n",
    "\n",
    "print(\"approach 3 to missing data: impute :  mean absolute error: {}\".format(estimate_MAE(X_train_imputed_wMissingFlags, X_valid_imputed_wMissingFlags, y_train, y_valid)))\n",
    "print(\"X: {}, X_train: {}, X_valid: {}, X_testL {}\".format(X.shape, X_train.shape, X_valid.shape, X_test.shape))"
   ]
  },
  {
   "cell_type": "code",
   "execution_count": 9,
   "id": "a741d780",
   "metadata": {},
   "outputs": [
    {
     "name": "stdout",
     "output_type": "stream",
     "text": [
      "X_train.columns: Index(['MSSubClass', 'LotFrontage', 'LotArea', 'OverallQual', 'OverallCond',\n",
      "       'YearBuilt', 'YearRemodAdd', 'MasVnrArea', 'BsmtFinSF1', 'BsmtFinSF2',\n",
      "       'BsmtUnfSF', 'TotalBsmtSF', '1stFlrSF', '2ndFlrSF', 'LowQualFinSF',\n",
      "       'GrLivArea', 'BsmtFullBath', 'BsmtHalfBath', 'FullBath', 'HalfBath',\n",
      "       'BedroomAbvGr', 'KitchenAbvGr', 'TotRmsAbvGrd', 'Fireplaces',\n",
      "       'GarageYrBlt', 'GarageCars', 'GarageArea', 'WoodDeckSF', 'OpenPorchSF',\n",
      "       'EnclosedPorch', '3SsnPorch', 'ScreenPorch', 'PoolArea', 'MiscVal',\n",
      "       'MoSold', 'YrSold'],\n",
      "      dtype='object')\n",
      "\n",
      "cols_wMissingEntries: ['LotFrontage', 'MasVnrArea', 'GarageYrBlt']\n"
     ]
    }
   ],
   "source": [
    "print(\"X_train.columns: {}\".format(X_train.columns))\n",
    "\n",
    "print(\"\\ncols_wMissingEntries: {}\".format(cols_wMissingEntries))"
   ]
  },
  {
   "cell_type": "code",
   "execution_count": 10,
   "id": "b3bc7d9d",
   "metadata": {},
   "outputs": [
    {
     "name": "stdout",
     "output_type": "stream",
     "text": [
      "X: (1460, 36), X_train: (1168, 36), X_valid: (292, 36), X_testL (1459, 36)\n",
      "\n",
      "X_train[cols_wMissingEntries]: \n",
      "       LotFrontage   MasVnrArea  GarageYrBlt\n",
      "count   956.000000  1162.000000  1110.000000\n",
      "mean     69.614017   103.481067  1978.140541\n",
      "std      22.946069   182.676225    24.877265\n",
      "min      21.000000     0.000000  1900.000000\n",
      "25%      59.000000     0.000000  1961.000000\n",
      "50%      69.000000     0.000000  1979.000000\n",
      "75%      80.000000   167.750000  2002.000000\n",
      "max     313.000000  1600.000000  2010.000000\n"
     ]
    },
    {
     "data": {
      "text/plain": [
       "<seaborn.axisgrid.FacetGrid at 0x7fd26c5b5b40>"
      ]
     },
     "execution_count": 10,
     "metadata": {},
     "output_type": "execute_result"
    },
    {
     "data": {
      "image/png": "[encoded data removed]",
      "text/plain": [
       "<Figure size 360x360 with 1 Axes>"
      ]
     },
     "metadata": {
      "needs_background": "light"
     },
     "output_type": "display_data"
    }
   ],
   "source": [
    "# final approach to missing data\n",
    "\n",
    "print(\"X: {}, X_train: {}, X_valid: {}, X_testL {}\".format(X.shape, X_train.shape, X_valid.shape, X_test.shape))\n",
    "\n",
    "print(\"\\nX_train[cols_wMissingEntries]: \\n{}\".format(X_train[cols_wMissingEntries].describe()))\n",
    "#plt = sns.displot(data=X_train, x='LotFrontage')\n",
    "sns.relplot(data=X_train, x='LotFrontage', y='LotArea').set(xlim=(0, 150), ylim=(0, 30000))\n",
    "#plt.set_ylim(0, 80000)\n",
    "#plt.set(xlim=(0, 150), ylim=(0, 30000))"
   ]
  },
  {
   "cell_type": "code",
   "execution_count": 11,
   "id": "1ec396ae",
   "metadata": {},
   "outputs": [
    {
     "data": {
      "text/html": [
       "<div>\n",
       "<style scoped>\n",
       "    .dataframe tbody tr th:only-of-type {\n",
       "        vertical-align: middle;\n",
       "    }\n",
       "\n",
       "    .dataframe tbody tr th {\n",
       "        vertical-align: top;\n",
       "    }\n",
       "\n",
       "    .dataframe thead th {\n",
       "        text-align: right;\n",
       "    }\n",
       "</style>\n",
       "<table border=\"1\" class=\"dataframe\">\n",
       "  <thead>\n",
       "    <tr style=\"text-align: right;\">\n",
       "      <th></th>\n",
       "      <th>LotFrontage</th>\n",
       "      <th>MasVnrArea</th>\n",
       "      <th>GarageYrBlt</th>\n",
       "    </tr>\n",
       "  </thead>\n",
       "  <tbody>\n",
       "    <tr>\n",
       "      <th>MSSubClass</th>\n",
       "      <td>-0.409257</td>\n",
       "      <td>0.015005</td>\n",
       "      <td>0.089108</td>\n",
       "    </tr>\n",
       "    <tr>\n",
       "      <th>LotFrontage</th>\n",
       "      <td>1.000000</td>\n",
       "      <td>0.167006</td>\n",
       "      <td>0.069402</td>\n",
       "    </tr>\n",
       "    <tr>\n",
       "      <th>LotArea</th>\n",
       "      <td>0.397706</td>\n",
       "      <td>0.085134</td>\n",
       "      <td>-0.038655</td>\n",
       "    </tr>\n",
       "    <tr>\n",
       "      <th>OverallQual</th>\n",
       "      <td>0.221039</td>\n",
       "      <td>0.413465</td>\n",
       "      <td>0.558957</td>\n",
       "    </tr>\n",
       "    <tr>\n",
       "      <th>OverallCond</th>\n",
       "      <td>-0.061837</td>\n",
       "      <td>-0.107896</td>\n",
       "      <td>-0.295939</td>\n",
       "    </tr>\n",
       "    <tr>\n",
       "      <th>YearBuilt</th>\n",
       "      <td>0.123309</td>\n",
       "      <td>0.317524</td>\n",
       "      <td>0.822975</td>\n",
       "    </tr>\n",
       "    <tr>\n",
       "      <th>YearRemodAdd</th>\n",
       "      <td>0.082145</td>\n",
       "      <td>0.190797</td>\n",
       "      <td>0.649385</td>\n",
       "    </tr>\n",
       "    <tr>\n",
       "      <th>MasVnrArea</th>\n",
       "      <td>0.167006</td>\n",
       "      <td>1.000000</td>\n",
       "      <td>0.254034</td>\n",
       "    </tr>\n",
       "    <tr>\n",
       "      <th>BsmtFinSF1</th>\n",
       "      <td>0.163335</td>\n",
       "      <td>0.269300</td>\n",
       "      <td>0.149784</td>\n",
       "    </tr>\n",
       "    <tr>\n",
       "      <th>BsmtFinSF2</th>\n",
       "      <td>0.024323</td>\n",
       "      <td>-0.081745</td>\n",
       "      <td>-0.088299</td>\n",
       "    </tr>\n",
       "    <tr>\n",
       "      <th>BsmtUnfSF</th>\n",
       "      <td>0.128534</td>\n",
       "      <td>0.104513</td>\n",
       "      <td>0.181943</td>\n",
       "    </tr>\n",
       "    <tr>\n",
       "      <th>TotalBsmtSF</th>\n",
       "      <td>0.317796</td>\n",
       "      <td>0.364254</td>\n",
       "      <td>0.321502</td>\n",
       "    </tr>\n",
       "    <tr>\n",
       "      <th>1stFlrSF</th>\n",
       "      <td>0.406044</td>\n",
       "      <td>0.335797</td>\n",
       "      <td>0.226959</td>\n",
       "    </tr>\n",
       "    <tr>\n",
       "      <th>2ndFlrSF</th>\n",
       "      <td>0.038287</td>\n",
       "      <td>0.165462</td>\n",
       "      <td>0.084916</td>\n",
       "    </tr>\n",
       "    <tr>\n",
       "      <th>LowQualFinSF</th>\n",
       "      <td>0.019500</td>\n",
       "      <td>-0.071547</td>\n",
       "      <td>-0.040043</td>\n",
       "    </tr>\n",
       "    <tr>\n",
       "      <th>GrLivArea</th>\n",
       "      <td>0.328757</td>\n",
       "      <td>0.377194</td>\n",
       "      <td>0.236417</td>\n",
       "    </tr>\n",
       "    <tr>\n",
       "      <th>BsmtFullBath</th>\n",
       "      <td>0.098177</td>\n",
       "      <td>0.076726</td>\n",
       "      <td>0.128888</td>\n",
       "    </tr>\n",
       "    <tr>\n",
       "      <th>BsmtHalfBath</th>\n",
       "      <td>-0.003367</td>\n",
       "      <td>0.026936</td>\n",
       "      <td>-0.100566</td>\n",
       "    </tr>\n",
       "    <tr>\n",
       "      <th>FullBath</th>\n",
       "      <td>0.185276</td>\n",
       "      <td>0.272867</td>\n",
       "      <td>0.490256</td>\n",
       "    </tr>\n",
       "    <tr>\n",
       "      <th>HalfBath</th>\n",
       "      <td>0.030666</td>\n",
       "      <td>0.199826</td>\n",
       "      <td>0.202355</td>\n",
       "    </tr>\n",
       "    <tr>\n",
       "      <th>BedroomAbvGr</th>\n",
       "      <td>0.261357</td>\n",
       "      <td>0.102214</td>\n",
       "      <td>-0.062033</td>\n",
       "    </tr>\n",
       "    <tr>\n",
       "      <th>KitchenAbvGr</th>\n",
       "      <td>0.002237</td>\n",
       "      <td>-0.039920</td>\n",
       "      <td>-0.141034</td>\n",
       "    </tr>\n",
       "    <tr>\n",
       "      <th>TotRmsAbvGrd</th>\n",
       "      <td>0.326245</td>\n",
       "      <td>0.259534</td>\n",
       "      <td>0.150748</td>\n",
       "    </tr>\n",
       "    <tr>\n",
       "      <th>Fireplaces</th>\n",
       "      <td>0.241815</td>\n",
       "      <td>0.246034</td>\n",
       "      <td>0.058783</td>\n",
       "    </tr>\n",
       "    <tr>\n",
       "      <th>GarageYrBlt</th>\n",
       "      <td>0.069402</td>\n",
       "      <td>0.254034</td>\n",
       "      <td>1.000000</td>\n",
       "    </tr>\n",
       "    <tr>\n",
       "      <th>GarageCars</th>\n",
       "      <td>0.312515</td>\n",
       "      <td>0.370311</td>\n",
       "      <td>0.585468</td>\n",
       "    </tr>\n",
       "    <tr>\n",
       "      <th>GarageArea</th>\n",
       "      <td>0.337322</td>\n",
       "      <td>0.355533</td>\n",
       "      <td>0.556867</td>\n",
       "    </tr>\n",
       "    <tr>\n",
       "      <th>WoodDeckSF</th>\n",
       "      <td>0.077786</td>\n",
       "      <td>0.164223</td>\n",
       "      <td>0.221336</td>\n",
       "    </tr>\n",
       "    <tr>\n",
       "      <th>OpenPorchSF</th>\n",
       "      <td>0.117494</td>\n",
       "      <td>0.120553</td>\n",
       "      <td>0.219161</td>\n",
       "    </tr>\n",
       "    <tr>\n",
       "      <th>EnclosedPorch</th>\n",
       "      <td>0.000712</td>\n",
       "      <td>-0.134609</td>\n",
       "      <td>-0.321349</td>\n",
       "    </tr>\n",
       "    <tr>\n",
       "      <th>3SsnPorch</th>\n",
       "      <td>0.059381</td>\n",
       "      <td>0.008706</td>\n",
       "      <td>0.028331</td>\n",
       "    </tr>\n",
       "    <tr>\n",
       "      <th>ScreenPorch</th>\n",
       "      <td>0.037143</td>\n",
       "      <td>0.053735</td>\n",
       "      <td>-0.065570</td>\n",
       "    </tr>\n",
       "    <tr>\n",
       "      <th>PoolArea</th>\n",
       "      <td>0.087754</td>\n",
       "      <td>-0.024733</td>\n",
       "      <td>-0.041739</td>\n",
       "    </tr>\n",
       "    <tr>\n",
       "      <th>MiscVal</th>\n",
       "      <td>0.001128</td>\n",
       "      <td>-0.035338</td>\n",
       "      <td>-0.035142</td>\n",
       "    </tr>\n",
       "    <tr>\n",
       "      <th>MoSold</th>\n",
       "      <td>0.040751</td>\n",
       "      <td>0.006201</td>\n",
       "      <td>-0.000297</td>\n",
       "    </tr>\n",
       "    <tr>\n",
       "      <th>YrSold</th>\n",
       "      <td>-0.028323</td>\n",
       "      <td>-0.032598</td>\n",
       "      <td>-0.003811</td>\n",
       "    </tr>\n",
       "  </tbody>\n",
       "</table>\n",
       "</div>"
      ],
      "text/plain": [
       "               LotFrontage  MasVnrArea  GarageYrBlt\n",
       "MSSubClass       -0.409257    0.015005     0.089108\n",
       "LotFrontage       1.000000    0.167006     0.069402\n",
       "LotArea           0.397706    0.085134    -0.038655\n",
       "OverallQual       0.221039    0.413465     0.558957\n",
       "OverallCond      -0.061837   -0.107896    -0.295939\n",
       "YearBuilt         0.123309    0.317524     0.822975\n",
       "YearRemodAdd      0.082145    0.190797     0.649385\n",
       "MasVnrArea        0.167006    1.000000     0.254034\n",
       "BsmtFinSF1        0.163335    0.269300     0.149784\n",
       "BsmtFinSF2        0.024323   -0.081745    -0.088299\n",
       "BsmtUnfSF         0.128534    0.104513     0.181943\n",
       "TotalBsmtSF       0.317796    0.364254     0.321502\n",
       "1stFlrSF          0.406044    0.335797     0.226959\n",
       "2ndFlrSF          0.038287    0.165462     0.084916\n",
       "LowQualFinSF      0.019500   -0.071547    -0.040043\n",
       "GrLivArea         0.328757    0.377194     0.236417\n",
       "BsmtFullBath      0.098177    0.076726     0.128888\n",
       "BsmtHalfBath     -0.003367    0.026936    -0.100566\n",
       "FullBath          0.185276    0.272867     0.490256\n",
       "HalfBath          0.030666    0.199826     0.202355\n",
       "BedroomAbvGr      0.261357    0.102214    -0.062033\n",
       "KitchenAbvGr      0.002237   -0.039920    -0.141034\n",
       "TotRmsAbvGrd      0.326245    0.259534     0.150748\n",
       "Fireplaces        0.241815    0.246034     0.058783\n",
       "GarageYrBlt       0.069402    0.254034     1.000000\n",
       "GarageCars        0.312515    0.370311     0.585468\n",
       "GarageArea        0.337322    0.355533     0.556867\n",
       "WoodDeckSF        0.077786    0.164223     0.221336\n",
       "OpenPorchSF       0.117494    0.120553     0.219161\n",
       "EnclosedPorch     0.000712   -0.134609    -0.321349\n",
       "3SsnPorch         0.059381    0.008706     0.028331\n",
       "ScreenPorch       0.037143    0.053735    -0.065570\n",
       "PoolArea          0.087754   -0.024733    -0.041739\n",
       "MiscVal           0.001128   -0.035338    -0.035142\n",
       "MoSold            0.040751    0.006201    -0.000297\n",
       "YrSold           -0.028323   -0.032598    -0.003811"
      ]
     },
     "execution_count": 11,
     "metadata": {},
     "output_type": "execute_result"
    }
   ],
   "source": [
    "X_train_Corr = X_train.corr()\n",
    "X_train_Corr[cols_wMissingEntries]"
   ]
  },
  {
   "cell_type": "code",
   "execution_count": 12,
   "id": "85282d46",
   "metadata": {},
   "outputs": [
    {
     "data": {
      "text/plain": [
       "MasVnrArea     1.000000\n",
       "OverallQual    0.413465\n",
       "GrLivArea      0.377194\n",
       "GarageCars     0.370311\n",
       "TotalBsmtSF    0.364254\n",
       "GarageArea     0.355533\n",
       "Name: MasVnrArea, dtype: float64"
      ]
     },
     "execution_count": 12,
     "metadata": {},
     "output_type": "execute_result"
    }
   ],
   "source": [
    "#sns.relplot(data=X_train, x='MasVnrArea', y='LotArea')\n",
    "#type(X_train_Corr['MasVnrArea'])\n",
    "X_train_Corr['MasVnrArea'].sort_values(ascending=False)[:6]\n",
    "#X_train_Corr['MasVnrArea'].sort_values(ascending=True)[:6]"
   ]
  },
  {
   "cell_type": "code",
   "execution_count": 13,
   "id": "55846f3a",
   "metadata": {},
   "outputs": [
    {
     "data": {
      "text/plain": [
       "<seaborn.axisgrid.FacetGrid at 0x7fd26c2a6650>"
      ]
     },
     "execution_count": 13,
     "metadata": {},
     "output_type": "execute_result"
    },
    {
     "data": {
      "image/png": "[encoded data removed]",
      "text/plain": [
       "<Figure size 500x500 with 1 Axes>"
      ]
     },
     "metadata": {},
     "output_type": "display_data"
    },
    {
     "data": {
      "image/png": "[encoded data removed]",
      "text/plain": [
       "<Figure size 500x500 with 1 Axes>"
      ]
     },
     "metadata": {},
     "output_type": "display_data"
    }
   ],
   "source": [
    "sns.relplot(data=X_train, x='MasVnrArea', y='OverallQual')\n",
    "sns.relplot(data=X_train, x='MasVnrArea', y='GrLivArea')"
   ]
  },
  {
   "cell_type": "code",
   "execution_count": 14,
   "id": "9008e549",
   "metadata": {},
   "outputs": [
    {
     "data": {
      "text/plain": [
       "Id\n",
       "1244    2076\n",
       "1279    2031\n",
       "937     1200\n",
       "651     1665\n",
       "235     1960\n",
       "974     1428\n",
       "Name: GrLivArea, dtype: int64"
      ]
     },
     "execution_count": 14,
     "metadata": {},
     "output_type": "execute_result"
    }
   ],
   "source": [
    "X_train.loc[X_train['MasVnrArea'].isna()]['GrLivArea']"
   ]
  },
  {
   "cell_type": "code",
   "execution_count": 15,
   "id": "f1ac20fd",
   "metadata": {},
   "outputs": [
    {
     "data": {
      "text/plain": [
       "<seaborn.axisgrid.FacetGrid at 0x7fd26c2fb550>"
      ]
     },
     "execution_count": 15,
     "metadata": {},
     "output_type": "execute_result"
    },
    {
     "data": {
      "image/png": "[encoded data removed]",
      "text/plain": [
       "<Figure size 500x500 with 1 Axes>"
      ]
     },
     "metadata": {},
     "output_type": "display_data"
    }
   ],
   "source": [
    "sns.displot(data=X_train, x='MasVnrArea', y='GrLivArea') # 'MasVnrArea' missing value to 0"
   ]
  },
  {
   "cell_type": "code",
   "execution_count": 16,
   "id": "0d0be397",
   "metadata": {},
   "outputs": [
    {
     "data": {
      "text/plain": [
       "GarageYrBlt     1.000000\n",
       "YearBuilt       0.822975\n",
       "YearRemodAdd    0.649385\n",
       "GarageCars      0.585468\n",
       "OverallQual     0.558957\n",
       "GarageArea      0.556867\n",
       "Name: GarageYrBlt, dtype: float64"
      ]
     },
     "execution_count": 16,
     "metadata": {},
     "output_type": "execute_result"
    }
   ],
   "source": [
    "X_train_Corr['GarageYrBlt'].sort_values(ascending=False)[:6]"
   ]
  },
  {
   "cell_type": "code",
   "execution_count": 17,
   "id": "d63c6054",
   "metadata": {},
   "outputs": [
    {
     "data": {
      "text/plain": [
       "<seaborn.axisgrid.FacetGrid at 0x7fd26c20faf0>"
      ]
     },
     "execution_count": 17,
     "metadata": {},
     "output_type": "execute_result"
    },
    {
     "data": {
      "image/png": "[encoded data removed]",
      "text/plain": [
       "<Figure size 500x500 with 1 Axes>"
      ]
     },
     "metadata": {},
     "output_type": "display_data"
    }
   ],
   "source": [
    "sns.displot(data=X_train, x='GarageYrBlt', y='YearBuilt')"
   ]
  },
  {
   "cell_type": "code",
   "execution_count": 18,
   "id": "5183594a",
   "metadata": {},
   "outputs": [
    {
     "name": "stdout",
     "output_type": "stream",
     "text": [
      "X: (1460, 36), X_train: (1168, 36), X_valid: (292, 36), X_testL (1459, 36)\n",
      "1 X_train_final: (1168, 36), X_valid_final: (292, 36), X_test_final: (1459, 36)\n",
      "cols_wMissingEntries:  ['LotFrontage', 'MasVnrArea', 'GarageYrBlt']\n",
      "X_train_final['GarageYrBlt']: \n",
      "Id\n",
      "619     2007.0\n",
      "871     1962.0\n",
      "93      1921.0\n",
      "818     2002.0\n",
      "303     2001.0\n",
      "         ...  \n",
      "764     1999.0\n",
      "836     1996.0\n",
      "1217    1978.0\n",
      "560     2003.0\n",
      "685     1998.0\n",
      "Name: GarageYrBlt, Length: 1168, dtype: float64, \n",
      "\n",
      "X_train['GarageYrBlt']: \n",
      "Id\n",
      "619     2007.0\n",
      "871     1962.0\n",
      "93      1921.0\n",
      "818     2002.0\n",
      "303     2001.0\n",
      "         ...  \n",
      "764     1999.0\n",
      "836     1996.0\n",
      "1217    1978.0\n",
      "560     2003.0\n",
      "685     1998.0\n",
      "Name: GarageYrBlt, Length: 1168, dtype: float64\n",
      "\n",
      "\n",
      "X_train_final['GarageYrBlt']: \n",
      "count    1168.000000\n",
      "mean     1976.326199\n",
      "std        26.273277\n",
      "min      1872.000000\n",
      "25%      1959.000000\n",
      "50%      1977.000000\n",
      "75%      2001.000000\n",
      "max      2010.000000\n",
      "Name: GarageYrBlt, dtype: float64, \n",
      "\n",
      "X_train['GarageYrBlt']: \n",
      "count    1110.000000\n",
      "mean     1978.140541\n",
      "std        24.877265\n",
      "min      1900.000000\n",
      "25%      1961.000000\n",
      "50%      1979.000000\n",
      "75%      2002.000000\n",
      "max      2010.000000\n",
      "Name: GarageYrBlt, dtype: float64\n",
      "\n",
      "\n",
      "X_train_final.isna().any().sum(): 0\n",
      "X: (1460, 36), X_train: (1168, 36), X_valid: (292, 36), X_testL (1459, 36)\n",
      "1 X_train_final: (1168, 36), X_valid_final: (292, 36), X_test_final: (1459, 36)\n"
     ]
    }
   ],
   "source": [
    "# final dataset\n",
    "\n",
    "print(\"X: {}, X_train: {}, X_valid: {}, X_testL {}\".format(X.shape, X_train.shape, X_valid.shape, X_test.shape))\n",
    "\n",
    "X_train_final = X_train.copy()\n",
    "X_valid_final = X_valid.copy()\n",
    "X_test_final  = X_test.copy()\n",
    "print(\"1 X_train_final: {}, X_valid_final: {}, X_test_final: {}\".format(\n",
    "    X_train_final.shape, X_valid_final.shape, X_test_final.shape))\n",
    "\n",
    "print(\"cols_wMissingEntries: \",cols_wMissingEntries) \n",
    "# cols_wMissingEntries:  ['LotFrontage', 'MasVnrArea', 'GarageYrBlt']\n",
    "\n",
    "# var 'LotFrontage'\n",
    "var_LotFrontage_valueToUse = X_train_final['LotFrontage'].min()\n",
    "for X_tmp in [X_train_final, X_valid_final, X_test_final]:\n",
    "    X_tmp['LotFrontage'].fillna(var_LotFrontage_valueToUse, inplace=True)\n",
    "\n",
    "# var 'MasVnrArea'\n",
    "var_MasVnrArea_valueToUse = X_train_final['MasVnrArea'].min()\n",
    "for X_tmp in [X_train_final, X_valid_final, X_test_final]:\n",
    "    X_tmp['MasVnrArea'].fillna(var_MasVnrArea_valueToUse, inplace=True)\n",
    "\n",
    "for X_tmp in [X_train_final, X_valid_final, X_test_final]:\n",
    "    #print(\"1: \",X_tmp['GarageYrBlt'].index)\n",
    "    #for idx in X_tmp['GarageYrBlt'].index:\n",
    "    for idx in X_tmp.index:\n",
    "        #print(\"X {}: {}\".format(idx, X_tmp.loc[idx, 'GarageYrBlt']))\n",
    "        if np.isnan(X_tmp.loc[idx, 'GarageYrBlt']):\n",
    "            #print(\"isnan found\")\n",
    "            X_tmp.loc[idx, 'GarageYrBlt'] = X_tmp.loc[idx, 'YearBuilt']\n",
    "print(\"X_train_final['GarageYrBlt']: \\n{}, \\n\\nX_train['GarageYrBlt']: \\n{}\".format(X_train_final['GarageYrBlt'], X_train['GarageYrBlt']))\n",
    "print(\"\\n\\nX_train_final['GarageYrBlt']: \\n{}, \\n\\nX_train['GarageYrBlt']: \\n{}\".format(X_train_final['GarageYrBlt'].describe(), X_train['GarageYrBlt'].describe()))\n",
    "\n",
    "print(\"\\n\\nX_train_final.isna().any().sum(): {}\".format(X_train_final.isna().any().sum()))\n",
    "\n",
    "print(\"X: {}, X_train: {}, X_valid: {}, X_testL {}\".format(X.shape, X_train.shape, X_valid.shape, X_test.shape))\n",
    "print(\"1 X_train_final: {}, X_valid_final: {}, X_test_final: {}\".format(\n",
    "    X_train_final.shape, X_valid_final.shape, X_test_final.shape))"
   ]
  },
  {
   "cell_type": "code",
   "execution_count": 19,
   "id": "16e436c1",
   "metadata": {},
   "outputs": [
    {
     "name": "stdout",
     "output_type": "stream",
     "text": [
      "1: X_train_final.columns (1168, 36): Index(['MSSubClass', 'LotFrontage', 'LotArea', 'OverallQual', 'OverallCond',\n",
      "       'YearBuilt', 'YearRemodAdd', 'MasVnrArea', 'BsmtFinSF1', 'BsmtFinSF2',\n",
      "       'BsmtUnfSF', 'TotalBsmtSF', '1stFlrSF', '2ndFlrSF', 'LowQualFinSF',\n",
      "       'GrLivArea', 'BsmtFullBath', 'BsmtHalfBath', 'FullBath', 'HalfBath',\n",
      "       'BedroomAbvGr', 'KitchenAbvGr', 'TotRmsAbvGrd', 'Fireplaces',\n",
      "       'GarageYrBlt', 'GarageCars', 'GarageArea', 'WoodDeckSF', 'OpenPorchSF',\n",
      "       'EnclosedPorch', '3SsnPorch', 'ScreenPorch', 'PoolArea', 'MiscVal',\n",
      "       'MoSold', 'YrSold'],\n",
      "      dtype='object'), \n",
      "X_train_final_wMissingValueFlags.columns (1168, 39): Index(['MSSubClass', 'LotFrontage', 'LotArea', 'OverallQual', 'OverallCond',\n",
      "       'YearBuilt', 'YearRemodAdd', 'MasVnrArea', 'BsmtFinSF1', 'BsmtFinSF2',\n",
      "       'BsmtUnfSF', 'TotalBsmtSF', '1stFlrSF', '2ndFlrSF', 'LowQualFinSF',\n",
      "       'GrLivArea', 'BsmtFullBath', 'BsmtHalfBath', 'FullBath', 'HalfBath',\n",
      "       'BedroomAbvGr', 'KitchenAbvGr', 'TotRmsAbvGrd', 'Fireplaces',\n",
      "       'GarageYrBlt', 'GarageCars', 'GarageArea', 'WoodDeckSF', 'OpenPorchSF',\n",
      "       'EnclosedPorch', '3SsnPorch', 'ScreenPorch', 'PoolArea', 'MiscVal',\n",
      "       'MoSold', 'YrSold', 'LotFrontage_missing', 'MasVnrArea_missing',\n",
      "       'GarageYrBlt_missing'],\n",
      "      dtype='object')\n",
      "X: (1460, 36), X_train: (1168, 36), X_valid: (292, 36), X_testL (1459, 36)\n"
     ]
    }
   ],
   "source": [
    "# add columns indicating missing value flags\n",
    "\n",
    "#print(\"X: {}, X_train: {}, X_valid: {}, X_testL {}\".format(X.shape, X_train.shape, X_valid.shape, X_test.shape))\n",
    "\n",
    "X_train_final_wMissingValueFlags = X_train_final.copy()\n",
    "X_valid_final_wMissingValueFlags = X_valid_final.copy()\n",
    "X_test_final_wMissingValueFlags  = X_test_final.copy()\n",
    "\n",
    "#print(\"0: X_train_final.columns {}: {}, \\nX_train_final_wMissingValueFlags.columns {}: {}\".format(\n",
    "#    X_train_final.shape, X_train_final.columns, \n",
    "#    X_train_final_wMissingValueFlags.shape, X_train_final_wMissingValueFlags.columns))\n",
    "\n",
    "for X_tmp_pair in [(X_train_final_wMissingValueFlags, X_train), \n",
    "                   (X_valid_final_wMissingValueFlags, X_valid), \n",
    "                   (X_test_final_wMissingValueFlags, X_test)]:\n",
    "    #print(\"\\n\\nX_0: \\n{} \\nX_1: \\n{}\".format(X_tmp_pair[0][cols_wMissingEntries].describe(), X_tmp_pair[1][cols_wMissingEntries].describe()))\n",
    "    X_tmp_final = X_tmp_pair[0]\n",
    "    X_tmp       = X_tmp_pair[1]\n",
    "    for col in cols_wMissingEntries:\n",
    "        X_tmp_final['%s_missing' % col] = X_tmp[col].isna()\n",
    "    \n",
    "print(\"1: X_train_final.columns {}: {}, \\nX_train_final_wMissingValueFlags.columns {}: {}\".format(\n",
    "    X_train_final.shape, X_train_final.columns, \n",
    "    X_train_final_wMissingValueFlags.shape, X_train_final_wMissingValueFlags.columns))\n",
    "\n",
    "print(\"X: {}, X_train: {}, X_valid: {}, X_testL {}\".format(X.shape, X_train.shape, X_valid.shape, X_test.shape))"
   ]
  },
  {
   "cell_type": "code",
   "execution_count": 20,
   "id": "3265efac",
   "metadata": {},
   "outputs": [
    {
     "name": "stdout",
     "output_type": "stream",
     "text": [
      "approach 1 to missing data: drop columns:  mean absolute error: 17837.82570776256\n",
      "approach 2 to missing data: impute :  mean absolute error: 18062.894611872147\n",
      "approach 3 to missing data: impute :  mean absolute error: 18135.90062785388\n",
      "approach 4 (final) to missing data: impute :  mean absolute error: 18008.844132420098\n",
      "approach 4 (final_wMissingValueFlags) to missing data: impute :  mean absolute error: 18114.76788812785\n"
     ]
    }
   ],
   "source": [
    "# Now test final datasets\n",
    "print(\"approach 1 to missing data: drop columns:  mean absolute error: {}\".format(estimate_MAE(X_train_reduced, X_valid_reduced, y_train, y_valid)))\n",
    "print(\"approach 2 to missing data: impute :  mean absolute error: {}\".format(estimate_MAE(X_train_imputed, X_valid_imputed, y_train, y_valid)))\n",
    "print(\"approach 3 to missing data: impute :  mean absolute error: {}\".format(estimate_MAE(X_train_imputed_wMissingFlags, X_valid_imputed_wMissingFlags, y_train, y_valid)))\n",
    "\n",
    "\n",
    "print(\"approach 4 (final) to missing data: impute :  mean absolute error: {}\".format(\n",
    "    estimate_MAE(X_train_final, X_valid_final, y_train, y_valid)))\n",
    "\n",
    "print(\"approach 4 (final_wMissingValueFlags) to missing data: impute :  mean absolute error: {}\".format(\n",
    "    estimate_MAE(X_train_final_wMissingValueFlags, X_valid_final_wMissingValueFlags, y_train, y_valid)))\n"
   ]
  },
  {
   "cell_type": "code",
   "execution_count": 22,
   "id": "367a9aed",
   "metadata": {},
   "outputs": [
    {
     "name": "stdout",
     "output_type": "stream",
     "text": [
      "approach 5 to missing data: impute :  mean absolute error: 17791.59899543379\n"
     ]
    }
   ],
   "source": [
    "imputer_Median = SimpleImputer(strategy=\"median\")\n",
    "X_train_imputed_Median = pd.DataFrame(imputer_Median.fit_transform(X_train))\n",
    "X_valid_imputed_Median = pd.DataFrame(imputer_Median.transform(X_valid))\n",
    "\n",
    "X_train_imputed_Median.columns = X_train.columns\n",
    "X_valid_imputed_Median.columns = X_valid.columns\n",
    "\n",
    "print(\"approach 5 to missing data: impute :  mean absolute error: {}\".format(\n",
    "    estimate_MAE(X_train_imputed_Median, X_valid_imputed_Median, y_train, y_valid)))"
   ]
  },
  {
   "cell_type": "code",
   "execution_count": 32,
   "id": "c7d61475",
   "metadata": {},
   "outputs": [
    {
     "name": "stdout",
     "output_type": "stream",
     "text": [
      "Done\n",
      "X_test_imputed_Median.shape: (1459, 36)\n"
     ]
    }
   ],
   "source": [
    "X_test_imputed_Median = pd.DataFrame(imputer_Median.transform(X_test))\n",
    "X_test_imputed_Median.columns = X_test.columns\n",
    "\n",
    "model_final = RandomForestRegressor(n_estimators=100, random_state=0)\n",
    "model_final.fit(X_train_imputed_Median, y_train)\n",
    "y_predict_final = model_final.predict(X_test_imputed_Median)\n",
    "\n",
    "y_predict_final_df = pd.DataFrame({\"Id\": X_test.index,\n",
    "               \"SalePrice\": y_predict_final})\n",
    "y_predict_final_df.to_csv(\"home-data-for-ml-course/ex_ML_Intermidiate_HousingDataCOmpetition_MissingValues_submission.csv\", index=False)\n",
    "\n",
    "print(\"Done\")\n",
    "print(\"X_test_imputed_Median.shape: {}\".format(X_test_imputed_Median.shape))"
   ]
  }
 ],
 "metadata": {
  "kernelspec": {
   "display_name": "Python 3 (ipykernel)",
   "language": "python",
   "name": "python3"
  },
  "language_info": {
   "codemirror_mode": {
    "name": "ipython",
    "version": 3
   },
   "file_extension": ".py",
   "mimetype": "text/x-python",
   "name": "python",
   "nbconvert_exporter": "python",
   "pygments_lexer": "ipython3",
   "version": "3.10.5"
  }
 },
 "nbformat": 4,
 "nbformat_minor": 5
}

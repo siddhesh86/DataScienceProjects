{
 "cells": [
  {
   "cell_type": "code",
   "execution_count": 7,
   "id": "9c9e9c67",
   "metadata": {},
   "outputs": [
    {
     "name": "stdout",
     "output_type": "stream",
     "text": [
      "[[0 1 2]\n",
      " [3 4 5]]\n"
     ]
    }
   ],
   "source": [
    "import numpy as np\n",
    "a=np.arange(6).reshape(2,3)\n",
    "print(a)"
   ]
  },
  {
   "cell_type": "code",
   "execution_count": 8,
   "id": "3e22b8a8",
   "metadata": {},
   "outputs": [
    {
     "name": "stdout",
     "output_type": "stream",
     "text": [
      "[[10 11 12]\n",
      " [13 14 15]]\n"
     ]
    }
   ],
   "source": [
    "b=np.arange(10,16).reshape(2,3)\n",
    "print(b)"
   ]
  },
  {
   "cell_type": "code",
   "execution_count": 11,
   "id": "bfc66fa8",
   "metadata": {},
   "outputs": [
    {
     "name": "stdout",
     "output_type": "stream",
     "text": [
      "[[ 0  1  2]\n",
      " [ 3  4  5]\n",
      " [10 11 12]\n",
      " [13 14 15]]\n"
     ]
    }
   ],
   "source": [
    "print( np.concatenate((a,b), axis=0) )"
   ]
  },
  {
   "cell_type": "code",
   "execution_count": 12,
   "id": "2a99362d",
   "metadata": {},
   "outputs": [
    {
     "name": "stdout",
     "output_type": "stream",
     "text": [
      "[[ 0  1  2 10 11 12]\n",
      " [ 3  4  5 13 14 15]]\n"
     ]
    }
   ],
   "source": [
    "print( np.concatenate((a,b), axis=1) )"
   ]
  },
  {
   "cell_type": "code",
   "execution_count": 13,
   "id": "58724569",
   "metadata": {},
   "outputs": [
    {
     "name": "stdout",
     "output_type": "stream",
     "text": [
      "[[ 0  1  2]\n",
      " [ 3  4  5]\n",
      " [10 11 12]\n",
      " [13 14 15]]\n"
     ]
    }
   ],
   "source": [
    "print( np.vstack((a,b)) )"
   ]
  },
  {
   "cell_type": "code",
   "execution_count": 14,
   "id": "ececb627",
   "metadata": {},
   "outputs": [
    {
     "name": "stdout",
     "output_type": "stream",
     "text": [
      "[[ 0  1  2 10 11 12]\n",
      " [ 3  4  5 13 14 15]]\n"
     ]
    }
   ],
   "source": [
    "print( np.hstack((a,b)) )"
   ]
  },
  {
   "cell_type": "code",
   "execution_count": 15,
   "id": "b6a309af",
   "metadata": {},
   "outputs": [
    {
     "name": "stdout",
     "output_type": "stream",
     "text": [
      "[[[ 0  1  2]\n",
      "  [ 3  4  5]]\n",
      "\n",
      " [[10 11 12]\n",
      "  [13 14 15]]]\n"
     ]
    }
   ],
   "source": [
    "print( np.stack((a,b), axis=0) )"
   ]
  },
  {
   "cell_type": "code",
   "execution_count": 16,
   "id": "6c13058c",
   "metadata": {},
   "outputs": [
    {
     "name": "stdout",
     "output_type": "stream",
     "text": [
      "[[[ 0  1  2]\n",
      "  [10 11 12]]\n",
      "\n",
      " [[ 3  4  5]\n",
      "  [13 14 15]]]\n"
     ]
    }
   ],
   "source": [
    "print( np.stack((a,b), axis=1) )"
   ]
  }
 ],
 "metadata": {
  "kernelspec": {
   "display_name": "Python 3 (ipykernel)",
   "language": "python",
   "name": "python3"
  },
  "language_info": {
   "codemirror_mode": {
    "name": "ipython",
    "version": 3
   },
   "file_extension": ".py",
   "mimetype": "text/x-python",
   "name": "python",
   "nbconvert_exporter": "python",
   "pygments_lexer": "ipython3",
   "version": "3.9.7"
  }
 },
 "nbformat": 4,
 "nbformat_minor": 5
}

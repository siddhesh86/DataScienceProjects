{
 "cells": [
  {
   "attachments": {},
   "cell_type": "markdown",
   "metadata": {},
   "source": []
  },
  {
   "cell_type": "code",
   "execution_count": 30,
   "metadata": {},
   "outputs": [],
   "source": [
    "import pandas as pd\n",
    "import numpy as np \n",
    "import seaborn as sns\n",
    "\n",
    "data = pd.read_csv('/Users/siddhesh/Work/dataScience/ml/ex_Pandas_KaggleTutorial/winemag-data_first150k.csv', index_col=0)\n",
    "data = data[:100]"
   ]
  },
  {
   "cell_type": "code",
   "execution_count": 29,
   "metadata": {},
   "outputs": [
    {
     "data": {
      "text/html": [
       "<div>\n",
       "<style scoped>\n",
       "    .dataframe tbody tr th:only-of-type {\n",
       "        vertical-align: middle;\n",
       "    }\n",
       "\n",
       "    .dataframe tbody tr th {\n",
       "        vertical-align: top;\n",
       "    }\n",
       "\n",
       "    .dataframe thead th {\n",
       "        text-align: right;\n",
       "    }\n",
       "</style>\n",
       "<table border=\"1\" class=\"dataframe\">\n",
       "  <thead>\n",
       "    <tr style=\"text-align: right;\">\n",
       "      <th></th>\n",
       "      <th>country</th>\n",
       "      <th>description</th>\n",
       "      <th>designation</th>\n",
       "      <th>points</th>\n",
       "      <th>price</th>\n",
       "      <th>province</th>\n",
       "      <th>region_1</th>\n",
       "      <th>region_2</th>\n",
       "      <th>variety</th>\n",
       "      <th>winery</th>\n",
       "    </tr>\n",
       "  </thead>\n",
       "  <tbody>\n",
       "    <tr>\n",
       "      <th>0</th>\n",
       "      <td>US</td>\n",
       "      <td>This tremendous 100% varietal wine hails from ...</td>\n",
       "      <td>Martha's Vineyard</td>\n",
       "      <td>96</td>\n",
       "      <td>235.0</td>\n",
       "      <td>California</td>\n",
       "      <td>Napa Valley</td>\n",
       "      <td>Napa</td>\n",
       "      <td>Cabernet Sauvignon</td>\n",
       "      <td>Heitz</td>\n",
       "    </tr>\n",
       "    <tr>\n",
       "      <th>1</th>\n",
       "      <td>Spain</td>\n",
       "      <td>Ripe aromas of fig, blackberry and cassis are ...</td>\n",
       "      <td>Carodorum Selección Especial Reserva</td>\n",
       "      <td>96</td>\n",
       "      <td>110.0</td>\n",
       "      <td>Northern Spain</td>\n",
       "      <td>Toro</td>\n",
       "      <td>NaN</td>\n",
       "      <td>Tinta de Toro</td>\n",
       "      <td>Bodega Carmen Rodríguez</td>\n",
       "    </tr>\n",
       "    <tr>\n",
       "      <th>2</th>\n",
       "      <td>US</td>\n",
       "      <td>Mac Watson honors the memory of a wine once ma...</td>\n",
       "      <td>Special Selected Late Harvest</td>\n",
       "      <td>96</td>\n",
       "      <td>90.0</td>\n",
       "      <td>California</td>\n",
       "      <td>Knights Valley</td>\n",
       "      <td>Sonoma</td>\n",
       "      <td>Sauvignon Blanc</td>\n",
       "      <td>Macauley</td>\n",
       "    </tr>\n",
       "    <tr>\n",
       "      <th>3</th>\n",
       "      <td>US</td>\n",
       "      <td>This spent 20 months in 30% new French oak, an...</td>\n",
       "      <td>Reserve</td>\n",
       "      <td>96</td>\n",
       "      <td>65.0</td>\n",
       "      <td>Oregon</td>\n",
       "      <td>Willamette Valley</td>\n",
       "      <td>Willamette Valley</td>\n",
       "      <td>Pinot Noir</td>\n",
       "      <td>Ponzi</td>\n",
       "    </tr>\n",
       "    <tr>\n",
       "      <th>4</th>\n",
       "      <td>France</td>\n",
       "      <td>This is the top wine from La Bégude, named aft...</td>\n",
       "      <td>La Brûlade</td>\n",
       "      <td>95</td>\n",
       "      <td>66.0</td>\n",
       "      <td>Provence</td>\n",
       "      <td>Bandol</td>\n",
       "      <td>NaN</td>\n",
       "      <td>Provence red blend</td>\n",
       "      <td>Domaine de la Bégude</td>\n",
       "    </tr>\n",
       "    <tr>\n",
       "      <th>...</th>\n",
       "      <td>...</td>\n",
       "      <td>...</td>\n",
       "      <td>...</td>\n",
       "      <td>...</td>\n",
       "      <td>...</td>\n",
       "      <td>...</td>\n",
       "      <td>...</td>\n",
       "      <td>...</td>\n",
       "      <td>...</td>\n",
       "      <td>...</td>\n",
       "    </tr>\n",
       "    <tr>\n",
       "      <th>95</th>\n",
       "      <td>France</td>\n",
       "      <td>This is a smooth, soft wine that is full of bl...</td>\n",
       "      <td>Château Beauvillain-Monpezat</td>\n",
       "      <td>86</td>\n",
       "      <td>14.0</td>\n",
       "      <td>Southwest France</td>\n",
       "      <td>Cahors</td>\n",
       "      <td>NaN</td>\n",
       "      <td>Malbec-Merlot</td>\n",
       "      <td>Rigal</td>\n",
       "    </tr>\n",
       "    <tr>\n",
       "      <th>96</th>\n",
       "      <td>US</td>\n",
       "      <td>This is an easygoing wine that's neither too o...</td>\n",
       "      <td>NaN</td>\n",
       "      <td>86</td>\n",
       "      <td>18.0</td>\n",
       "      <td>California</td>\n",
       "      <td>California</td>\n",
       "      <td>California Other</td>\n",
       "      <td>Chardonnay</td>\n",
       "      <td>The Naked Grape</td>\n",
       "    </tr>\n",
       "    <tr>\n",
       "      <th>97</th>\n",
       "      <td>US</td>\n",
       "      <td>Blended with small amounts of Merlot, Cabernet...</td>\n",
       "      <td>NaN</td>\n",
       "      <td>86</td>\n",
       "      <td>36.0</td>\n",
       "      <td>California</td>\n",
       "      <td>Sonoma Valley</td>\n",
       "      <td>Sonoma</td>\n",
       "      <td>Cabernet Sauvignon</td>\n",
       "      <td>Tin Barn</td>\n",
       "    </tr>\n",
       "    <tr>\n",
       "      <th>98</th>\n",
       "      <td>France</td>\n",
       "      <td>Closer to Bordeaux than is Cahors, this is Mal...</td>\n",
       "      <td>Pigmentum</td>\n",
       "      <td>86</td>\n",
       "      <td>15.0</td>\n",
       "      <td>Southwest France</td>\n",
       "      <td>Buzet</td>\n",
       "      <td>NaN</td>\n",
       "      <td>Merlot-Malbec</td>\n",
       "      <td>Georges Vigouroux</td>\n",
       "    </tr>\n",
       "    <tr>\n",
       "      <th>99</th>\n",
       "      <td>France</td>\n",
       "      <td>This is a blend of 60% Ugni Blanc and 40% Colo...</td>\n",
       "      <td>Pigmentum</td>\n",
       "      <td>86</td>\n",
       "      <td>10.0</td>\n",
       "      <td>Southwest France</td>\n",
       "      <td>Côtes de Gascogne</td>\n",
       "      <td>NaN</td>\n",
       "      <td>Ugni Blanc-Colombard</td>\n",
       "      <td>Georges Vigouroux</td>\n",
       "    </tr>\n",
       "  </tbody>\n",
       "</table>\n",
       "<p>100 rows × 10 columns</p>\n",
       "</div>"
      ],
      "text/plain": [
       "   country                                        description  \\\n",
       "0       US  This tremendous 100% varietal wine hails from ...   \n",
       "1    Spain  Ripe aromas of fig, blackberry and cassis are ...   \n",
       "2       US  Mac Watson honors the memory of a wine once ma...   \n",
       "3       US  This spent 20 months in 30% new French oak, an...   \n",
       "4   France  This is the top wine from La Bégude, named aft...   \n",
       "..     ...                                                ...   \n",
       "95  France  This is a smooth, soft wine that is full of bl...   \n",
       "96      US  This is an easygoing wine that's neither too o...   \n",
       "97      US  Blended with small amounts of Merlot, Cabernet...   \n",
       "98  France  Closer to Bordeaux than is Cahors, this is Mal...   \n",
       "99  France  This is a blend of 60% Ugni Blanc and 40% Colo...   \n",
       "\n",
       "                             designation  points  price          province  \\\n",
       "0                      Martha's Vineyard      96  235.0        California   \n",
       "1   Carodorum Selección Especial Reserva      96  110.0    Northern Spain   \n",
       "2          Special Selected Late Harvest      96   90.0        California   \n",
       "3                                Reserve      96   65.0            Oregon   \n",
       "4                             La Brûlade      95   66.0          Provence   \n",
       "..                                   ...     ...    ...               ...   \n",
       "95          Château Beauvillain-Monpezat      86   14.0  Southwest France   \n",
       "96                                   NaN      86   18.0        California   \n",
       "97                                   NaN      86   36.0        California   \n",
       "98                             Pigmentum      86   15.0  Southwest France   \n",
       "99                             Pigmentum      86   10.0  Southwest France   \n",
       "\n",
       "             region_1           region_2               variety  \\\n",
       "0         Napa Valley               Napa    Cabernet Sauvignon   \n",
       "1                Toro                NaN         Tinta de Toro   \n",
       "2      Knights Valley             Sonoma       Sauvignon Blanc   \n",
       "3   Willamette Valley  Willamette Valley            Pinot Noir   \n",
       "4              Bandol                NaN    Provence red blend   \n",
       "..                ...                ...                   ...   \n",
       "95             Cahors                NaN         Malbec-Merlot   \n",
       "96         California   California Other            Chardonnay   \n",
       "97      Sonoma Valley             Sonoma    Cabernet Sauvignon   \n",
       "98              Buzet                NaN         Merlot-Malbec   \n",
       "99  Côtes de Gascogne                NaN  Ugni Blanc-Colombard   \n",
       "\n",
       "                     winery  \n",
       "0                     Heitz  \n",
       "1   Bodega Carmen Rodríguez  \n",
       "2                  Macauley  \n",
       "3                     Ponzi  \n",
       "4      Domaine de la Bégude  \n",
       "..                      ...  \n",
       "95                    Rigal  \n",
       "96          The Naked Grape  \n",
       "97                 Tin Barn  \n",
       "98        Georges Vigouroux  \n",
       "99        Georges Vigouroux  \n",
       "\n",
       "[100 rows x 10 columns]"
      ]
     },
     "execution_count": 29,
     "metadata": {},
     "output_type": "execute_result"
    }
   ],
   "source": [
    "data[:100]"
   ]
  },
  {
   "cell_type": "code",
   "execution_count": 31,
   "metadata": {},
   "outputs": [
    {
     "data": {
      "text/html": [
       "<div>\n",
       "<style scoped>\n",
       "    .dataframe tbody tr th:only-of-type {\n",
       "        vertical-align: middle;\n",
       "    }\n",
       "\n",
       "    .dataframe tbody tr th {\n",
       "        vertical-align: top;\n",
       "    }\n",
       "\n",
       "    .dataframe thead th {\n",
       "        text-align: right;\n",
       "    }\n",
       "</style>\n",
       "<table border=\"1\" class=\"dataframe\">\n",
       "  <thead>\n",
       "    <tr style=\"text-align: right;\">\n",
       "      <th></th>\n",
       "      <th>points</th>\n",
       "      <th>price</th>\n",
       "    </tr>\n",
       "  </thead>\n",
       "  <tbody>\n",
       "    <tr>\n",
       "      <th>count</th>\n",
       "      <td>100.000000</td>\n",
       "      <td>96.000000</td>\n",
       "    </tr>\n",
       "    <tr>\n",
       "      <th>mean</th>\n",
       "      <td>91.390000</td>\n",
       "      <td>60.781250</td>\n",
       "    </tr>\n",
       "    <tr>\n",
       "      <th>std</th>\n",
       "      <td>2.744673</td>\n",
       "      <td>53.463062</td>\n",
       "    </tr>\n",
       "    <tr>\n",
       "      <th>min</th>\n",
       "      <td>86.000000</td>\n",
       "      <td>10.000000</td>\n",
       "    </tr>\n",
       "    <tr>\n",
       "      <th>25%</th>\n",
       "      <td>90.000000</td>\n",
       "      <td>28.000000</td>\n",
       "    </tr>\n",
       "    <tr>\n",
       "      <th>50%</th>\n",
       "      <td>91.000000</td>\n",
       "      <td>50.000000</td>\n",
       "    </tr>\n",
       "    <tr>\n",
       "      <th>75%</th>\n",
       "      <td>94.250000</td>\n",
       "      <td>73.500000</td>\n",
       "    </tr>\n",
       "    <tr>\n",
       "      <th>max</th>\n",
       "      <td>96.000000</td>\n",
       "      <td>325.000000</td>\n",
       "    </tr>\n",
       "  </tbody>\n",
       "</table>\n",
       "</div>"
      ],
      "text/plain": [
       "           points       price\n",
       "count  100.000000   96.000000\n",
       "mean    91.390000   60.781250\n",
       "std      2.744673   53.463062\n",
       "min     86.000000   10.000000\n",
       "25%     90.000000   28.000000\n",
       "50%     91.000000   50.000000\n",
       "75%     94.250000   73.500000\n",
       "max     96.000000  325.000000"
      ]
     },
     "execution_count": 31,
     "metadata": {},
     "output_type": "execute_result"
    }
   ],
   "source": [
    "data.describe()"
   ]
  },
  {
   "cell_type": "code",
   "execution_count": 32,
   "metadata": {},
   "outputs": [
    {
     "data": {
      "text/plain": [
       "<Axes: ylabel='Frequency'>"
      ]
     },
     "execution_count": 32,
     "metadata": {},
     "output_type": "execute_result"
    },
    {
     "data": {
      "image/png": "[encoded data removed]",
      "text/plain": [
       "<Figure size 640x480 with 1 Axes>"
      ]
     },
     "metadata": {},
     "output_type": "display_data"
    }
   ],
   "source": [
    "data['price'].plot(x='price', kind='hist', bins=30 )"
   ]
  },
  {
   "cell_type": "code",
   "execution_count": 33,
   "metadata": {},
   "outputs": [
    {
     "data": {
      "text/plain": [
       "<Axes: xlabel='price', ylabel='Count'>"
      ]
     },
     "execution_count": 33,
     "metadata": {},
     "output_type": "execute_result"
    },
    {
     "data": {
      "image/png": "[encoded data removed]",
      "text/plain": [
       "<Figure size 640x480 with 1 Axes>"
      ]
     },
     "metadata": {},
     "output_type": "display_data"
    }
   ],
   "source": [
    "#sns.histplot(data=data, x='price', bins=30, binwidth=10).set_xlim(0,100)\n",
    "sns.histplot(data=data, x='price', bins=30)"
   ]
  },
  {
   "cell_type": "code",
   "execution_count": 34,
   "metadata": {},
   "outputs": [
    {
     "data": {
      "text/plain": [
       "points       Axes(0.125,0.11;0.352273x0.77)\n",
       "price     Axes(0.547727,0.11;0.352273x0.77)\n",
       "dtype: object"
      ]
     },
     "execution_count": 34,
     "metadata": {},
     "output_type": "execute_result"
    },
    {
     "data": {
      "image/png": "[encoded data removed]",
      "text/plain": [
       "<Figure size 640x480 with 2 Axes>"
      ]
     },
     "metadata": {},
     "output_type": "display_data"
    }
   ],
   "source": [
    "data[['price', 'points', 'country']].plot.box(by='country')"
   ]
  }
 ],
 "metadata": {
  "kernelspec": {
   "display_name": "ds1",
   "language": "python",
   "name": "python3"
  },
  "language_info": {
   "codemirror_mode": {
    "name": "ipython",
    "version": 3
   },
   "file_extension": ".py",
   "mimetype": "text/x-python",
   "name": "python",
   "nbconvert_exporter": "python",
   "pygments_lexer": "ipython3",
   "version": "3.11.5"
  },
  "orig_nbformat": 4
 },
 "nbformat": 4,
 "nbformat_minor": 2
}

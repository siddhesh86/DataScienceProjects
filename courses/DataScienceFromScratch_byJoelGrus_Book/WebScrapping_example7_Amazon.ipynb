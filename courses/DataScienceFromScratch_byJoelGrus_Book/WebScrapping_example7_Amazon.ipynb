{
 "cells": [
  {
   "cell_type": "code",
   "execution_count": 5,
   "metadata": {},
   "outputs": [
    {
     "name": "stdout",
     "output_type": "stream",
     "text": [
      "product_details = {'title': 'Dyson Cyclone v10 Vacuum, Blue', 'image_url': 'https://m.media-amazon.com/images/I/51uUfypgDdL._AC_SX679_.jpg'}\n",
      "driver.current_url = 'https://www.amazon.com/Dyson-V10-Allergy-Cordless-Cleaner/dp/B095LD5SWQ/'\n"
     ]
    }
   ],
   "source": [
    "from selenium import webdriver\n",
    "from selenium.webdriver import Chrome\n",
    "from selenium.webdriver.chrome.options import Options\n",
    "from selenium.webdriver.chrome.service import Service\n",
    "from webdriver_manager.chrome import ChromeDriverManager\n",
    "from selenium.webdriver.common.by import By\n",
    "\n",
    "opts = Options()\n",
    "#opts.headless = True\n",
    "opts.add_argument(\"--headless\")\n",
    "opts.add_argument(\"--window-size=1920,1200\")\n",
    "\n",
    "driver = webdriver.Chrome(options=opts, service=Service(ChromeDriverManager().install()))\n",
    "#driver.get(\"https://google.co.in\")\n",
    "#driver.get(\"https://www.nintendo.com/\")\n",
    "driver.get(\"https://www.amazon.com/Dyson-V10-Allergy-Cordless-Cleaner/dp/B095LD5SWQ/\")\n",
    "\n",
    "title = driver.find_element(by=By.XPATH, value='//span[@id=\"productTitle\"]')\n",
    "\n",
    "image = driver.find_element(by=By.XPATH, value='//div[@class=\"imgTagWrapper\"]/img')\n",
    "\n",
    "product_details = {\n",
    "    'title': title.text,\n",
    "    'image_url': image.get_attribute('src')\n",
    "}\n",
    "print(f\"{product_details = }\")\n",
    "\n",
    "\n",
    "\n",
    "print(f\"{driver.current_url = }\")\n",
    "\n",
    "driver.quit()"
   ]
  }
 ],
 "metadata": {
  "kernelspec": {
   "display_name": "ds1",
   "language": "python",
   "name": "python3"
  },
  "language_info": {
   "codemirror_mode": {
    "name": "ipython",
    "version": 3
   },
   "file_extension": ".py",
   "mimetype": "text/x-python",
   "name": "python",
   "nbconvert_exporter": "python",
   "pygments_lexer": "ipython3",
   "version": "3.11.5"
  },
  "orig_nbformat": 4
 },
 "nbformat": 4,
 "nbformat_minor": 2
}

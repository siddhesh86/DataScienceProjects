{
 "cells": [
  {
   "attachments": {},
   "cell_type": "markdown",
   "metadata": {},
   "source": [
    "Web scrapping using API"
   ]
  },
  {
   "cell_type": "code",
   "execution_count": 3,
   "metadata": {},
   "outputs": [],
   "source": [
    "import requests\n",
    "from bs4 import BeautifulSoup\n",
    "import re\n",
    "\n"
   ]
  },
  {
   "cell_type": "code",
   "execution_count": 16,
   "metadata": {},
   "outputs": [
    {
     "name": "stdout",
     "output_type": "stream",
     "text": [
      "{\n",
      "  \"userId\": 1,\n",
      "  \"id\": 1,\n",
      "  \"title\": \"delectus aut autem\",\n",
      "  \"completed\": false\n",
      "}\n",
      "b'{\\n  \"userId\": 1,\\n  \"id\": 1,\\n  \"title\": \"delectus aut autem\",\\n  \"completed\": false\\n}'\n"
     ]
    },
    {
     "data": {
      "text/plain": [
       "{'Date': 'Wed, 15 Jan 2025 09:43:24 GMT', 'Content-Type': 'application/json; charset=utf-8', 'Transfer-Encoding': 'chunked', 'Connection': 'keep-alive', 'Report-To': '{\"group\":\"heroku-nel\",\"max_age\":3600,\"endpoints\":[{\"url\":\"https://nel.heroku.com/reports?ts=1735917746&sid=e11707d5-02a7-43ef-b45e-2cf4d2036f7d&s=KoxtJxxo%2BeylQ6z7MTgNj6Mn4jhdUeLAVYPmgrda9K0%3D\"}]}', 'Reporting-Endpoints': 'heroku-nel=https://nel.heroku.com/reports?ts=1735917746&sid=e11707d5-02a7-43ef-b45e-2cf4d2036f7d&s=KoxtJxxo%2BeylQ6z7MTgNj6Mn4jhdUeLAVYPmgrda9K0%3D', 'Nel': '{\"report_to\":\"heroku-nel\",\"max_age\":3600,\"success_fraction\":0.005,\"failure_fraction\":0.05,\"response_headers\":[\"Via\"]}', 'X-Powered-By': 'Express', 'X-Ratelimit-Limit': '1000', 'X-Ratelimit-Remaining': '999', 'X-Ratelimit-Reset': '1735917761', 'Vary': 'Origin, Accept-Encoding', 'Access-Control-Allow-Credentials': 'true', 'Cache-Control': 'max-age=43200', 'Pragma': 'no-cache', 'Expires': '-1', 'X-Content-Type-Options': 'nosniff', 'Etag': 'W/\"53-hfEnumeNh6YirfjyjaujcOPPT+s\"', 'Via': '1.1 vegur', 'CF-Cache-Status': 'HIT', 'Age': '8412', 'Server': 'cloudflare', 'CF-RAY': '9024ebda4b14e21d-MRS', 'Content-Encoding': 'br', 'alt-svc': 'h3=\":443\"; ma=86400', 'server-timing': 'cfL4;desc=\"?proto=TCP&rtt=43106&min_rtt=42349&rtt_var=9641&sent=5&recv=8&lost=0&retrans=0&sent_bytes=2841&recv_bytes=789&delivery_rate=90992&cwnd=253&unsent_bytes=0&cid=0123dde29fe57c91&ts=79&x=0\"'}"
      ]
     },
     "execution_count": 16,
     "metadata": {},
     "output_type": "execute_result"
    }
   ],
   "source": [
    "result = requests.get(\"https://jsonplaceholder.typicode.com/todos/1\")\n",
    "print(result.text)\n",
    "print(result.content)\n",
    "result.json()\n",
    "result.headers"
   ]
  },
  {
   "cell_type": "code",
   "execution_count": 15,
   "metadata": {},
   "outputs": [
    {
     "data": {
      "text/plain": [
       "{'userId': 1, 'title': 'Buy milk', 'completed': False, 'id': 201}"
      ]
     },
     "execution_count": 15,
     "metadata": {},
     "output_type": "execute_result"
    }
   ],
   "source": [
    "todo = {\"userId\": 1, \"title\": \"Buy milk\", \"completed\": False}\n",
    "result = requests.post(\"https://jsonplaceholder.typicode.com/todos\", json=todo)\n",
    "result.json()"
   ]
  },
  {
   "cell_type": "code",
   "execution_count": 20,
   "metadata": {},
   "outputs": [
    {
     "name": "stdout",
     "output_type": "stream",
     "text": [
      "{'userId': 1, 'id': 10, 'title': 'illo est ratione doloremque quia maiores aut', 'completed': True}\n",
      "{'userId': 1, 'title': 'Wash car', 'completed': True, 'id': 10}\n",
      "200\n"
     ]
    }
   ],
   "source": [
    "result = requests.get(\"https://jsonplaceholder.typicode.com/todos/10\")\n",
    "print(result.json())\n",
    "\n",
    "todo = {\"userId\": 1, \"title\": \"Wash car\", \"completed\": True}\n",
    "result = requests.put(\"https://jsonplaceholder.typicode.com/todos/10\", json=todo)\n",
    "print(result.json())\n",
    "print(result.status_code)"
   ]
  },
  {
   "cell_type": "code",
   "execution_count": 22,
   "metadata": {},
   "outputs": [
    {
     "name": "stdout",
     "output_type": "stream",
     "text": [
      "{'userId': 1, 'id': 10, 'title': 'illo est ratione doloremque quia maiores aut', 'completed': True}\n",
      "{'userId': 1, 'id': 10, 'title': 'Mow lawn', 'completed': True, 'key_new': 'value_new'}\n",
      "200\n"
     ]
    }
   ],
   "source": [
    "result = requests.get(\"https://jsonplaceholder.typicode.com/todos/10\")\n",
    "print(result.json())\n",
    "\n",
    "todo = {\"title\": \"Mow lawn\", 'key_new': \"value_new\"}\n",
    "result = requests.patch(\"https://jsonplaceholder.typicode.com/todos/10\", json=todo)\n",
    "print(result.json())\n",
    "print(result.status_code)"
   ]
  },
  {
   "cell_type": "code",
   "execution_count": 25,
   "metadata": {},
   "outputs": [
    {
     "name": "stdout",
     "output_type": "stream",
     "text": [
      "{}\n",
      "200\n"
     ]
    }
   ],
   "source": [
    "result = requests.delete(\"https://jsonplaceholder.typicode.com/todos/10\")\n",
    "print(result.json())\n",
    "print(result.status_code)"
   ]
  }
 ],
 "metadata": {
  "kernelspec": {
   "display_name": "ds1",
   "language": "python",
   "name": "python3"
  },
  "language_info": {
   "codemirror_mode": {
    "name": "ipython",
    "version": 3
   },
   "file_extension": ".py",
   "mimetype": "text/x-python",
   "name": "python",
   "nbconvert_exporter": "python",
   "pygments_lexer": "ipython3",
   "version": "3.11.5"
  },
  "orig_nbformat": 4
 },
 "nbformat": 4,
 "nbformat_minor": 2
}

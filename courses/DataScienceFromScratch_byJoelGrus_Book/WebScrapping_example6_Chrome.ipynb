{
 "cells": [
  {
   "cell_type": "code",
   "execution_count": 1,
   "metadata": {},
   "outputs": [
    {
     "name": "stdout",
     "output_type": "stream",
     "text": [
      "driver.title = 'Hacker News'\n",
      "driver.current_url = 'https://news.ycombinator.com/'\n",
      "title_element.text = \"Mathematicians Discover New Way for Spheres to 'Kiss'\"\n",
      "driver.current_url = 'https://www.quantamagazine.org/mathematicians-discover-new-way-for-spheres-to-kiss-20250115/'\n"
     ]
    }
   ],
   "source": [
    "from selenium import webdriver\n",
    "from selenium.webdriver import Chrome\n",
    "from selenium.webdriver.chrome.options import Options\n",
    "from selenium.webdriver.chrome.service import Service\n",
    "from webdriver_manager.chrome import ChromeDriverManager\n",
    "from selenium.webdriver.common.by import By\n",
    "\n",
    "opts = Options()\n",
    "#opts.headless = True\n",
    "opts.add_argument(\"--headless\")\n",
    "\n",
    "driver = webdriver.Chrome(options=opts, service=Service(ChromeDriverManager().install()))\n",
    "#driver.get(\"https://google.co.in\")\n",
    "#driver.get(\"https://www.nintendo.com/\")\n",
    "driver.get(\"https://news.ycombinator.com/\")\n",
    "\n",
    "#print(driver.page_source)\n",
    "print(f\"{driver.title = }\")\n",
    "print(f\"{driver.current_url = }\")\n",
    "\n",
    "#title_element = driver.find_element(By.XPATH, '//tr[@class=\"athing\"]/td[3]/a')\n",
    "title_element = driver.find_element(By.XPATH, '//tr[@class=\"athing submission\"]/td[3]//a')\n",
    "print(f\"{title_element.text = }\")\n",
    "\n",
    "#//*[@id=\"42721442\"]/td[3]/span/a\n",
    "\n",
    "title_element.click()\n",
    "\n",
    "print(f\"{driver.current_url = }\")\n",
    "\n",
    "driver.quit()"
   ]
  }
 ],
 "metadata": {
  "kernelspec": {
   "display_name": "ds1",
   "language": "python",
   "name": "python3"
  },
  "language_info": {
   "codemirror_mode": {
    "name": "ipython",
    "version": 3
   },
   "file_extension": ".py",
   "mimetype": "text/x-python",
   "name": "python",
   "nbconvert_exporter": "python",
   "pygments_lexer": "ipython3",
   "version": "3.11.5"
  },
  "orig_nbformat": 4
 },
 "nbformat": 4,
 "nbformat_minor": 2
}

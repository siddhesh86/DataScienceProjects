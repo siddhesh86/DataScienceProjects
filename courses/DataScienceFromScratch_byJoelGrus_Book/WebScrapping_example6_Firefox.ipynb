{
 "cells": [
  {
   "cell_type": "code",
   "execution_count": 17,
   "metadata": {},
   "outputs": [
    {
     "name": "stdout",
     "output_type": "stream",
     "text": [
      "driver.title = 'Hacker News'\n",
      "driver.current_url = 'https://news.ycombinator.com/'\n",
      "title_element.text = \"Intel's Tofino P4 Software Is Now Open Source\"\n",
      "driver.current_url = 'https://p4.org/intels-tofino-p4-software-is-now-open-source/'\n"
     ]
    }
   ],
   "source": [
    "from selenium import webdriver\n",
    "from selenium.webdriver import Firefox\n",
    "from selenium.webdriver.firefox.options import Options\n",
    "from selenium.webdriver.common.by import By\n",
    "\n",
    "opts = Options()\n",
    "#opts.headless = True\n",
    "opts.add_argument(\"--headless\")\n",
    "\n",
    "driver = webdriver.Firefox(options=opts)\n",
    "#driver.get(\"https://google.co.in\")\n",
    "#driver.get(\"https://www.nintendo.com/\")\n",
    "driver.get(\"https://news.ycombinator.com/\")\n",
    "\n",
    "#print(driver.page_source)\n",
    "print(f\"{driver.title = }\")\n",
    "print(f\"{driver.current_url = }\")\n",
    "\n",
    "#title_element = driver.find_element(By.XPATH, '//tr[@class=\"athing\"]/td[3]/a')\n",
    "title_element = driver.find_element(By.XPATH, '//tr[@class=\"athing submission\"]/td[3]//a')\n",
    "print(f\"{title_element.text = }\")\n",
    "\n",
    "title_element.click()\n",
    "\n",
    "print(f\"{driver.current_url = }\")\n",
    "\n",
    "driver.quit()"
   ]
  }
 ],
 "metadata": {
  "kernelspec": {
   "display_name": "ds1",
   "language": "python",
   "name": "python3"
  },
  "language_info": {
   "codemirror_mode": {
    "name": "ipython",
    "version": 3
   },
   "file_extension": ".py",
   "mimetype": "text/x-python",
   "name": "python",
   "nbconvert_exporter": "python",
   "pygments_lexer": "ipython3",
   "version": "3.11.5"
  },
  "orig_nbformat": 4
 },
 "nbformat": 4,
 "nbformat_minor": 2
}

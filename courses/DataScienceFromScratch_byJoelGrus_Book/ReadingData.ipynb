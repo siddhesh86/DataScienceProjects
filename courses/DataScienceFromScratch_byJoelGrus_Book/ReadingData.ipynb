{
 "cells": [
  {
   "cell_type": "code",
   "execution_count": 6,
   "metadata": {},
   "outputs": [
    {
     "name": "stdout",
     "output_type": "stream",
     "text": [
      "row = ['test1', 'success', 'Monday']\n",
      "row = ['test2', 'success, kind of', 'Tuesday']\n",
      "row = ['test3', 'failure, kind of', 'Wednesday']\n",
      "row = ['test4', 'failure, utter', 'Thursday']\n"
     ]
    }
   ],
   "source": [
    "import csv\n",
    "\n",
    "results = [[\"test1\", \"success\", \"Monday\"],\n",
    "           [\"test2\", \"success, kind of\", \"Tuesday\"],\n",
    "           [\"test3\", \"failure, kind of\", \"Wednesday\"],\n",
    "           [\"test4\", \"failure, utter\", \"Thursday\"]]\n",
    "\n",
    "with open('bad_csv.txt', 'w') as fOut:\n",
    "    writer = csv.writer(fOut, delimiter=\":\")\n",
    "    for row in results:\n",
    "        print(f\"{row = }\")\n",
    "        writer.writerow(row)"
   ]
  }
 ],
 "metadata": {
  "kernelspec": {
   "display_name": "ds1",
   "language": "python",
   "name": "python3"
  },
  "language_info": {
   "codemirror_mode": {
    "name": "ipython",
    "version": 3
   },
   "file_extension": ".py",
   "mimetype": "text/x-python",
   "name": "python",
   "nbconvert_exporter": "python",
   "pygments_lexer": "ipython3",
   "version": "3.11.5"
  },
  "orig_nbformat": 4
 },
 "nbformat": 4,
 "nbformat_minor": 2
}
